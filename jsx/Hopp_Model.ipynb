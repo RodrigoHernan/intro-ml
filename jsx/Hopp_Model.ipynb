{
 "cells": [
  {
   "cell_type": "markdown",
   "metadata": {},
   "source": [
    "<div style=\"padding:20px;color:#6A79BA;margin:0;font-size:180%;text-align:center;display:fill;border-radius:5px;background-color:white;overflow:hidden;font-weight:600\">Series de tiempo en Hopp</div>\n",
    "\n",
    "<img src=\"https://metadata.fundacionsadosky.org.ar/media/media/images/HOPP_-_Flyer_web_metadata.png\" style=\"border-radius:5px\">\n",
    "\n",
    "# <div style=\"padding:20px;color:white;margin:0;font-size:100%;text-align:left;display:fill;border-radius:5px;background-color:#6A79BA;overflow:hidden\">1 | Introducción</div>\n",
    "\n",
    "Para cualquier empresa, la previsión financiera es vital, particularmente para pequeñas empresas o empresas en rápido crecimiento, donde el flujo de dinero es crucial para su operación y mantenimiento.\n",
    "\n",
    "Una empresa de préstamos al consumo como Hopp es una institución comercial o financiera que otorga crédito a individuos, con la expectativa de que se reembolsará el monto total del préstamo, más intereses. La ganancia para la empresa son los intereses generados por el crédito, que constituyen un porcentaje específico del capital total del préstamo otorgado al prestatario. El pago del préstamo ocurre en pagos mensuales o quincenales, con la posibilidad de adelantar cuotas.\n",
    "\n",
    "Dentro de los tipos de préstamo que ofrece Hopp, uno de sus productos más populares son los préstamos de día de pago (PDL, por su nombre en inglés payday loans). Estos son préstamos de relativamente poco capital (comparado con, por ejemplo, una hipoteca) que se otorgan a una tasa de interés elevada por el riesgo de que el préstamo entre en mora y el monto prestado no sea cobrado. Hopp apostó a este tipo de mercado para crecer rápido ya que se trataba de un grupo de personas que comúnmente no suelen ser atendidas por la banca tradicional. La tasa de interés elevada permite compensar el alto riesgo de pago. En caso de no pagar, el interés acumula deuda y puede perjudicar el puntaje crediticio del prestatario.\n",
    "\n",
    "El objetivo de la competencia es, utilizando datos históricos de pagos de Hopp (enero 2019 - junio 2020), <b>predecir los pagos de principal</b> para cada préstamo activo.\n",
    "\n",
    "Para mas detalles sobre los files y la descripción del problema ir a este [link](https://metadata.fundacionsadosky.org.ar/competition/26/)"
   ]
  },
  {
   "cell_type": "markdown",
   "metadata": {},
   "source": [
    "# <div style=\"padding:20px;color:white;margin:0;font-size:100%;text-align:left;display:fill;border-radius:5px;background-color:#6A79BA;overflow:hidden\">2 | Enfoque de la solución</div>\n",
    "\n",
    "Todo el desarrollo de la solución fue puro feature engineering, buscando variables que dado un punto en el tiempo puedan aportar la mayor información posible respecto del monto principal a estimar.\n",
    "\n",
    "También se buscó, con muchas complicaciones, un set de validación confiable que genere algún tipo de correlación con el leaderboard. La mejor opción fue utilizar los primeros meses del set para entrenar (hasta abril 2019) y validar contra el resto de la data disponible, esto se hizo buscando emular el comportamiento que luego se busca al momento del submit, es decir, tener predicciones muy lejanas en el tiempo (en este caso contabamos con 13 meses a futuro). Luego incluso se calculaba el mae sólo para el primer semestre de 2020 y se sacaban conclusiones con esa métrica. La idea principal de esto es que el modelo no se degrade fuertemente con el paso del tiempo.\n",
    "\n",
    "Una vez obtenidas las mejoras contra el set de validación se entrenaba un modelo con la data completa y se realizaba la predicción a submitear.\n",
    "\n",
    "El modelo utilizado es [LightGBM](https://lightgbm.readthedocs.io/en/v3.3.2/) que es un algoritmo de gradient boosting muy utilizado para este tipo de problemas.\n",
    "\n",
    "A medida que vayamos transitando la notebook la idea es ir detallando un poco mas cada parte del código ejecutado. Se han dejado comentadas parte de las pruebas realizadas sin mejoras.\n",
    "\n"
   ]
  },
  {
   "cell_type": "markdown",
   "metadata": {},
   "source": [
    "# <div style=\"padding:20px;color:white;margin:0;font-size:100%;text-align:left;display:fill;border-radius:5px;background-color:#6A79BA;overflow:hidden\">3 | Obteniendo Data</div>\n"
   ]
  },
  {
   "cell_type": "code",
   "execution_count": 1,
   "id": "f9c15c11",
   "metadata": {
    "id": "NjKshGeHZXPt"
   },
   "outputs": [],
   "source": [
    "import json\n",
    "import math\n",
    "\n",
    "import lightgbm as lgb\n",
    "import matplotlib.pyplot as plt\n",
    "import numpy as np\n",
    "import pandas as pd\n",
    "import seaborn as sns\n",
    "from sklearn.metrics import mean_absolute_error\n",
    "\n",
    "pd.set_option('display.float_format', lambda x: '%.3f' % x)\n",
    "pd.set_option('display.max_columns', 500)\n",
    "pd.set_option('display.max_rows', 500)\n",
    "\n",
    "USE_PRECOMPUTED = False\n",
    "TUNE_PARAMETERS = False"
   ]
  },
  {
   "cell_type": "code",
   "execution_count": 2,
   "metadata": {
    "id": "xnA0ej_qZcuU"
   },
   "outputs": [],
   "source": [
    "root_folder = '../'\n",
    "project_folder = root_folder+'submissions/'\n",
    "public_drive_folder = root_folder+'data/'\n",
    "version = 'v15'\n",
    "\n",
    "if (not USE_PRECOMPUTED):\n",
    "  # agencies = pd.read_csv(public_drive_folder+'loan_agency_product_name.csv')\n",
    "  dindexdto = pd.read_csv(public_drive_folder+'loan_dindexedto_dataset.csv')\n",
    "  loans_info = pd.read_csv(public_drive_folder+'loan_funding_origination_info.csv')\n",
    "  payments = pd.read_csv(public_drive_folder+'loan_payments_dataset.csv')\n",
    "payments_scoring = pd.read_csv(public_drive_folder+'loan_payments_dataset_scoring.csv',header=None)\n",
    "payments_scoring.columns = ['PaymentCode','PaymentPrincipal']"
   ]
  },
  {
   "cell_type": "markdown",
   "metadata": {
    "id": "0KrJZZAqZmlY"
   },
   "source": [
    "# <div style=\"padding:20px;color:white;margin:0;font-size:100%;text-align:left;display:fill;border-radius:5px;background-color:#6A79BA;overflow:hidden\">4 | Funciones</div>\n"
   ]
  },
  {
   "cell_type": "markdown",
   "metadata": {
    "id": "Wm_xSeqQZ2H3"
   },
   "source": [
    "### Parseo file de submissions"
   ]
  },
  {
   "cell_type": "code",
   "execution_count": 3,
   "metadata": {
    "id": "HZSMZky-Zp3c"
   },
   "outputs": [],
   "source": [
    "def scoring_fe(ori):\n",
    "  \"\"\"Dado el set de datos de submit devuelve un data frame con PaymentType, PaymentProcessingDate, LoanId\n",
    "\n",
    "  Args:\n",
    "      ori (pd.DataFrame): loan_payments_dataset_scoring.csv\n",
    "\n",
    "  Returns:\n",
    "      pd.DataFrame: data frame con PaymentType, PaymentProcessingDate, LoanId \n",
    "  \"\"\"  \n",
    "  df = ori.copy()\n",
    "\n",
    "  df['PaymentCode'] = df['PaymentCode'].astype(str)\n",
    "\n",
    "  # Begins with 13\n",
    "  condition_13 = df.PaymentCode.str[0:2]=='13'\n",
    "  df.loc[condition_13,'PaymentType'] = '13'\n",
    "  df.loc[condition_13,'PaymentProcessingDate'] = '20' + df.loc[condition_13].PaymentCode.str[2:8]\n",
    "  df.loc[condition_13,'LoanId'] = df.loc[condition_13].PaymentCode.str[8:]\n",
    "  # Begins with 4\n",
    "  condition_4 = df.PaymentCode.str[0:1]=='4'\n",
    "  df.loc[condition_4,'PaymentType'] = '4'\n",
    "  df.loc[condition_4,'PaymentProcessingDate'] = '20' + df.loc[condition_4].PaymentCode.str[1:7]\n",
    "  df.loc[condition_4,'LoanId'] = df.loc[condition_4].PaymentCode.str[7:]\n",
    "  # Begins with 8\n",
    "  condition_8 = df.PaymentCode.str[0:1]=='8'\n",
    "  df.loc[condition_8,'PaymentType'] = '8'\n",
    "  df.loc[condition_8,'PaymentProcessingDate'] = '20' + df.loc[condition_8].PaymentCode.str[1:7]\n",
    "  df.loc[condition_8,'LoanId'] = df.loc[condition_8].PaymentCode.str[7:]\n",
    "  # Begins with 12\n",
    "  condition_12 = df.PaymentCode.str[0:2]=='12'\n",
    "  df.loc[condition_12,'PaymentType'] = '1'\n",
    "  df.loc[condition_12,'PaymentProcessingDate'] = '20' + df.loc[condition_12].PaymentCode.str[1:7]\n",
    "  df.loc[condition_12,'LoanId'] = df.loc[condition_12].PaymentCode.str[7:]\n",
    "  # Begins with 20 or 21\n",
    "  condition_20_21 = (df.PaymentCode.str[0:2]=='20') | (df.PaymentCode.astype(str).str[0:2]=='21')\n",
    "  df.loc[condition_20_21,'PaymentType'] = '0'\n",
    "  df.loc[condition_20_21,'PaymentProcessingDate'] = '20' + df.loc[condition_20_21].PaymentCode.str[0:6]\n",
    "  df.loc[condition_20_21,'LoanId'] = df.loc[condition_20_21].PaymentCode.str[6:]\n",
    "  # Begins with 22\n",
    "  condition_22 = (df.PaymentCode.str[0:2]=='22')\n",
    "  df.loc[condition_22,'PaymentType'] = '2'\n",
    "  df.loc[condition_22,'PaymentProcessingDate'] = '20' + df.loc[condition_22].PaymentCode.str[1:7]\n",
    "  df.loc[condition_22,'LoanId'] = df.loc[condition_22].PaymentCode.str[7:]\n",
    "  \n",
    "\n",
    "  df['PaymentProcessingDate'] = df['PaymentProcessingDate'].str[0:4] + '-' + df['PaymentProcessingDate'].str[4:6] + '-' + df['PaymentProcessingDate'].str[6:8]\n",
    "  df['PaymentType'] = df['PaymentType'].astype(object)\n",
    "  df['PaymentCode'] = df['PaymentCode'].astype(int)\n",
    "  df['LoanId'] = df['LoanId'].astype(int)\n",
    "  #df.drop(columns=['PaymentPrincipal'],inplace=True)\n",
    "\n",
    "  return df"
   ]
  },
  {
   "cell_type": "markdown",
   "metadata": {
    "id": "k9JH73RcZ8Va"
   },
   "source": [
    "### Feature Enginneering"
   ]
  },
  {
   "cell_type": "code",
   "execution_count": 4,
   "metadata": {
    "id": "uKc7AJGmZ89B"
   },
   "outputs": [],
   "source": [
    "def get_mean_from_train(df, col_to_aggregate=None, var_to_aggregate='PrincipalVsQuote'):\n",
    "  \"\"\"Genera promedios desde la data de train. \n",
    "  Si no se indica ninguna columna en col_to_aggregate ni en var_to_aggregate se calcula la tabla de amortización,\n",
    "  es decir para un tipo de pago (PaymentType), duración de préstamo (Term), periodicidad de pago (PaysPerMonth)\n",
    "  y meses desde el origen (MonthsFromOri) se calcula la media de principal vs valor de la cuota (PrincipalVsQuote).\n",
    "  De lo contrario se calcula para esa columna informada mas el PaymentType se calcula la media de la variable\n",
    "  informada en var_to_aggregate.\n",
    "\n",
    "  Args:\n",
    "      df (pd.DataFrame): set de datos con las columnas mencionadas\n",
    "      col_to_aggregate (str, optional): nombre columna a agrupar. Defaults to None.\n",
    "      var_to_aggregate (str, optional): columna a calcular el promedio. Defaults to 'PrincipalVsQuote'.\n",
    "\n",
    "  Returns:\n",
    "      pd.Series: si col_to_aggregate es null la serie PrincipalVsQuote_perQuoteMean, si no una columna con \n",
    "      el nombre col_to_aggregate+var_to_aggregate+'_mean\n",
    "  \"\"\"  \n",
    "  if (col_to_aggregate is None):\n",
    "    to_group = ['PaymentType','Term','PaysPerMonth','MonthsFromOri']\n",
    "    col_to_aggregate=''\n",
    "    preffix = '_perQuoteMean'\n",
    "  else:\n",
    "    to_group = [col_to_aggregate] + ['PaymentType']\n",
    "    preffix = '_mean'\n",
    "  aux = df[df['SetType'] == 'Train'].groupby(to_group)[var_to_aggregate].agg({('avg','mean'),('n','count')}).reset_index()\n",
    "  aux.loc[aux['n']<100, 'avg'] = None\n",
    "  aux.drop(columns=['n'],inplace=True)\n",
    "  aux.rename(columns={\"avg\": col_to_aggregate+var_to_aggregate+preffix}, inplace=True)\n",
    "  return aux"
   ]
  },
  {
   "cell_type": "code",
   "execution_count": 5,
   "metadata": {
    "id": "CiPQE53IwQCA"
   },
   "outputs": [],
   "source": [
    "def complete_dueDate(loan,index_dates):\n",
    "  \"\"\"DEPRECADO. Imputa fechas de vencimiento de cuota nulas\n",
    "\n",
    "  Args:\n",
    "      loan (pd.SeriesGroupBy): serie agrupada de un loan\n",
    "      index_dates (_type_): dateindex full para todas las fechas de vencimiento\n",
    "\n",
    "  Returns:\n",
    "      pd.Series: serie con la variable CompletePaymentDueDate imputada\n",
    "  \"\"\"  \n",
    "  aux = loan['PreviousTransferDate'].apply(lambda x: index_dates[index_dates>=x].head(1).values[0] if pd.notnull(x) else None)\n",
    "  loan.loc[loan.CompletePaymentDueDate.isna(),'CompletePaymentDueDate'] = aux\n",
    "  return loan"
   ]
  },
  {
   "cell_type": "code",
   "execution_count": 6,
   "metadata": {
    "id": "kbbLXFXX5bMv"
   },
   "outputs": [],
   "source": [
    "def get_loan_vars(df, vars_dict, rolling_window=100):\n",
    "  \"\"\"Genera variables del loan segun su historico de pagos. Si no se indica una ventana de tiempo se generan variables\n",
    "  históricas de comportamiento, de lo contrario se observan rolling_window filas hacia atras.\n",
    "\n",
    "  Args:\n",
    "      df (pd.DataFrame): set de datos\n",
    "      vars_dict (dict): diccionario con variables y agregaciones a aplicar\n",
    "      rolling_window (int, optional): indica la cantidad de filas a considerar para el calculo. Defaults to 100.\n",
    "\n",
    "  Returns:\n",
    "      pd.DataFrame: devuelve el set de datos con las nuevas columnas agregadas\n",
    "  \"\"\"  \n",
    "  if rolling_window==100:\n",
    "    rolling_name = '_historical_'\n",
    "  else:\n",
    "    rolling_name = '_rolling'+str(rolling_window)+'_'\n",
    "\n",
    "  df = df.sort_values(by=['LoanId','PaymentProcessingDate'])\n",
    "  grouped = df[df.PaymentType.isin([0,2])].groupby('LoanId')\n",
    "  for i in vars_dict:\n",
    "   print(\"Calculating \"+i+ \" aggregations..\")\n",
    "   for j in vars_dict[i]:\n",
    "     var_name = i+rolling_name+j\n",
    "     print('\\t'+var_name)\n",
    "     if(j == 'max'):\n",
    "       df[var_name] = grouped[i].transform(lambda x: x.rolling(window=rolling_window, min_periods=1).max().shift())\n",
    "     elif(j=='mean'):\n",
    "       df[var_name] = grouped[i].transform(lambda x: x.rolling(window=rolling_window, min_periods=1).mean().shift())\n",
    "     elif(j=='min'):\n",
    "       df[var_name] = grouped[i].transform(lambda x: x.rolling(window=rolling_window, min_periods=1).min().shift())\n",
    "     elif(j=='count'):\n",
    "       df[var_name] = grouped[i].transform(lambda x: x.rolling(window=rolling_window, min_periods=1).count().shift()) \n",
    "     elif(j=='median'):\n",
    "       df[var_name] = grouped[i].transform(lambda x: x.rolling(window=rolling_window, min_periods=1).median().shift()) \n",
    "       \n",
    "  return df"
   ]
  },
  {
   "cell_type": "markdown",
   "metadata": {},
   "source": [
    "A continuacion encontraremos la función principal, su input los files originales, su output el dataset con las variables nuevas a utilizar por el modelo.\n",
    "\n",
    "La misma función admite setear un set de validación y/o un set de test devolviendo un data frame con toda la data. Para diferenciar cada tipo de datos se crea la variable SetType con valores posibles Train, Validation y Test"
   ]
  },
  {
   "cell_type": "code",
   "execution_count": 7,
   "metadata": {
    "id": "SIUsK0D5aDOn"
   },
   "outputs": [],
   "source": [
    "def fe(df, loan_info, dindex, scoring=None, validation_set=None):\n",
    "  \"\"\"Funcion principal de feature engineering. Recibe los sets de datos originales y devuelve un set de datos\n",
    "  con las variables calculadas para realizar el entrenamiento.\n",
    "  El campo scoring es opcional, si se indica se calculan las variables tambien para el set de datos final.\n",
    "  El campo validation_set también es opcional, de in\n",
    "\n",
    "  Args:\n",
    "      df (pd.DataFrame): set de datos de pagos\n",
    "      loan_info (pd.DataFrame): set de datos de info de loans\n",
    "      dindex (pd.DataFrame): set de datos de info de tipo de indexación\n",
    "      scoring (pd.DataFrame, optional): set de datos con filas a predecir. Defaults to None.\n",
    "      validation_set (pd.DataFrame, optional): set de datos de pagos para utilizar de validación. Defaults to None.\n",
    "\n",
    "  Returns:\n",
    "      pd.DataFrame: set de datos final\n",
    "  \"\"\"  \n",
    "  \n",
    "  df['SetType'] = 'Train'\n",
    "  df['PaymentCode'] = None\n",
    "\n",
    "  # remove negative principal (106 rows)\n",
    "  df = df[df.PaymentPrincipal>=0].reset_index(drop=True)\n",
    "\n",
    "  # If have validation set, put into None DueDate \n",
    "  if validation_set is not None:\n",
    "    validation_set['PaymentDueDate'] = None\n",
    "    validation_set['SetType'] = 'Validation'\n",
    "    df = pd.concat([df,validation_set]).reset_index(drop=True)\n",
    "\n",
    "  # date columns\n",
    "  date_cols = ['PaymentProcessingDate','PaymentDueDate','PaymentTransferDate']\n",
    "  for i in date_cols:\n",
    "    df[i] = pd.to_datetime(df[i])\n",
    "\n",
    "  # aggrupate multiple pays for one loan, paymenttype, processingdate\n",
    "  df = df.groupby(['LoanId','PaymentSource','PaymentType','PaymentProcessingDate','SetType'],dropna=False).agg(\n",
    "      {'PaymentPrincipal':[('PaymentPrincipal','sum'),('PaymentPrincipal_npayments','count')],\n",
    "       'PaymentTransferDate':[('PaymentTransferDate','max')],\n",
    "       'PaymentDueDate':[('PaymentDueDate','min'),('PaymentDueDate_nunique','nunique')]})\n",
    "  df.columns = df.columns.droplevel(level=0)\n",
    "  df = df.reset_index()\n",
    "\n",
    "  df = df.sort_values(by=['LoanId','PaymentTransferDate','PaymentProcessingDate'])\n",
    "\n",
    "  # If have validation set, save PaymentPrincipal values before set it to None \n",
    "  if validation_set is not None:\n",
    "    valid_target = df.loc[df['SetType'] == 'Validation','PaymentPrincipal']\n",
    "    df.loc[df['SetType'] == 'Validation','PaymentPrincipal'] = None\n",
    "  \n",
    "  # payment type fix -> move all to PaymentType\n",
    "  df['PaymentSource'] = df['PaymentSource'].map({'Regular':0, 'Alternative':1,'Contractor':2})\n",
    "  df['PaymentType'] = df['PaymentType'].fillna(df['PaymentSource'])\n",
    "  \n",
    "\n",
    "  # Attach scoring test set\n",
    "  if scoring is not None:\n",
    "    scoring = scoring_fe(scoring)\n",
    "    #scoring = scoring[scoring.LoanId.isin(df.LoanId.unique())].reset_index(drop=True)\n",
    "    scoring['SetType'] = 'Test'\n",
    "    df = pd.concat([df,scoring]).reset_index(drop=True)\n",
    "  \n",
    "  # add loan info\n",
    "  df = df.merge(loan_info, how='left')\n",
    "  \n",
    "  # add index info\n",
    "  df = df.merge(dindex, how='left')\n",
    "\n",
    "  # date columns\n",
    "  date_cols = ['PaymentProcessingDate','PaymentDueDate','PaymentTransferDate','OriginationDate']\n",
    "  for i in date_cols:\n",
    "    df[i] = pd.to_datetime(df[i])\n",
    "\n",
    "  df = df.sort_values(by=['LoanId','PaymentTransferDate','PaymentProcessingDate'])\n",
    "  \n",
    "  # add agency info\n",
    "  #df = df.merge(agencies, how='left')\n",
    "\n",
    "  df['AgencyId'] = df['AgencyId'].astype('object')\n",
    "  df['FundingID'] = df['FundingID'].astype('object')\n",
    "  df['PaymentType'] = df['PaymentType'].astype(float).astype('object')\n",
    "\n",
    "  # remove old loans\n",
    "  # df = df[df.OriginationDate.str[:4].astype(int)>=2010].reset_index(drop=True)\n",
    "\n",
    "  # exclude loan without result\n",
    "  #df = df[df.LoanOperationalStatus!='Unidentified'].reset_index(drop=True)\n",
    "\n",
    "  # exclude loan without loan amount info\n",
    "  #df = df[df.InstallmentAmount>0].reset_index(drop=True)\n",
    "\n",
    "  # loan status drop in model \n",
    "  #df.drop(columns=['LoanOperationalStatus'],inplace=True)\n",
    "\n",
    "  # loan duration\n",
    "  df['Term'] = df['Term'].fillna(1)\n",
    "\n",
    "  df['PaysPerMonth'] = df['Periodicity'].map({'Monthly':1, 'Biweekly':2,'Weekly':4})\n",
    "  df['LoanYears'] = df['Term'] / df['PaysPerMonth'] / 12\n",
    "  df['LoanMonths'] = (df['Term']/df['Periodicity'].map({'Monthly':1, 'Biweekly':2,'Weekly':4})).round().fillna(1).astype(int)\n",
    "  df['LoanOriginationYear'] = df.OriginationDate.dt.year\n",
    "  df['LoanOriginationMonth'] = df.OriginationDate.dt.month\n",
    "\n",
    "  # payment principal\n",
    "  df['PaymentPrincipal_perPayment'] = df['PaymentPrincipal']/df['PaymentPrincipal_npayments']\n",
    "\n",
    "  # quote amount\n",
    "  df['InstallmentQuoteAmount'] = df['InstallmentAmount'] / df['Term'] \n",
    "  # replace quote amount 0 per PaymentPrincipal\n",
    "  df.loc[df['InstallmentQuoteAmount']==0,'InstallmentQuoteAmount'] = df.PaymentPrincipal\n",
    " \n",
    "\n",
    "  # Last Payment Date flag -> without good results\n",
    "  # df[\"LastQuoteDate\"] = df[\"OriginationDate\"] + df['LoanMonths'].astype('timedelta64[M]')\n",
    "  # df['PastDueLoanPayment']=(df[\"LastQuoteDate\"]<df[\"PaymentProcessingDate\"])\n",
    "\n",
    "  # days between payments\n",
    "  df['PreviousProcessingDate'] = df.groupby('LoanId')['PaymentProcessingDate'].shift()\n",
    "  df['DaysFromLastPayment'] = (df['PaymentProcessingDate'] - df['PreviousProcessingDate'])/np.timedelta64(1, 'D')\n",
    "  df['EstimatedNPayedQuota'] = df['DaysFromLastPayment'].apply(lambda x: math.ceil(x/30) if pd.notnull(x) else 1)\n",
    "   \n",
    "  # delay payment calculation\n",
    "  df['DelayPayment'] = (df['PaymentProcessingDate'] - df['PaymentDueDate'])/np.timedelta64(1, 'D')\n",
    "\n",
    "  # due date impute -> without good results\n",
    "  # df['CompletePaymentDueDate'] = df['PaymentDueDate']\n",
    "  # index_dates = pd.date_range('2018-01-01','2022-12-15',freq='SM')\n",
    "  # index_dates = pd.Series(index_dates,name='PaymentDueDate')\n",
    "  # df = df.groupby('LoanId').apply(lambda x: complete_dueDate(x, index_dates))\n",
    "  # df['CompletedDelayPayment'] = (df['PaymentProcessingDate'] - df['CompletePaymentDueDate'])/np.timedelta64(1, 'D')\n",
    "\n",
    "  \n",
    "\n",
    "  # months from origination\n",
    "  df.loc[df.PaymentDueDate.notnull(),'MonthsFromOri'] = (df['PaymentDueDate'] - df['OriginationDate'])/np.timedelta64(1, 'M')\n",
    "  df.loc[df.PaymentDueDate.isna(),'MonthsFromOri'] = (df['PaymentProcessingDate'] - df['OriginationDate'])/np.timedelta64(1, 'M')\n",
    "  # df['MonthsFromOri'] = (df['PaymentDueDate'] - df['OriginationDate'])/np.timedelta64(1, 'M')\n",
    "  df['MonthsFromOri'] = (df['MonthsFromOri'].fillna(-1)).astype(int)\n",
    "  # little rows with 0 as first month, convert to quote 1\n",
    "  df.loc[df['MonthsFromOri']==0,'MonthsFromOri'] = 1\n",
    "  \n",
    "  df['DueDateDaysFromOri'] = (df['PaymentDueDate'] - df['OriginationDate'])/np.timedelta64(1, 'D')\n",
    "\n",
    "  df['PrincipalVsQuote'] = df['PaymentPrincipal']/df['InstallmentQuoteAmount']\n",
    "  \n",
    "  #df['PrincipalVsAmount'] = df['PaymentPrincipal']/df['PaymentAmount']\n",
    "  \n",
    "  # error payments validated with payment_due_date removed\n",
    "  df = df[(df.DueDateDaysFromOri>-30) | (df.DueDateDaysFromOri.isna())].reset_index(drop=True)\n",
    "\n",
    "  # means variables\n",
    "  df = df.merge(get_mean_from_train(df), how='left')\n",
    "  cols_to_aggregate = ['Type','D-IndexedTo','AgencyId','FundingID']#,'LoanOperationalStatus']\n",
    "  for i in cols_to_aggregate:\n",
    "    df = df.merge(get_mean_from_train(df, i), how='left')\n",
    "\n",
    "  # variables from history\n",
    "  historical_agg = {\n",
    "      'DelayPayment':['max','median'],\n",
    "      'PaymentPrincipal':['max','median','count'],\n",
    "      'PaymentPrincipal_perPayment':['max','median'],\n",
    "      'PrincipalVsQuote':['max','median'],\n",
    "      'PaymentPrincipal_npayments':['max'],\n",
    "      'PaymentDueDate_nunique':['max'],\n",
    "      'DaysFromLastPayment':['max','median']\n",
    "  }\n",
    "  df = get_loan_vars(df,historical_agg)\n",
    "\n",
    "\n",
    "  last_months_agg = {\n",
    "      'DaysFromLastPayment':['max','mean'],\n",
    "      # 'CompletedDelayPayment':['max','mean'],\n",
    "  }\n",
    "  \n",
    "  # variables from rolling6\n",
    "  df = get_loan_vars(df,last_months_agg, rolling_window=6)\n",
    "  # variables from rolling3\n",
    "  df = get_loan_vars(df,last_months_agg, rolling_window=3)\n",
    "\n",
    "  df['DiffDaysFromLastPayment_6_3_max'] = df['DaysFromLastPayment_rolling3_max'] / df['DaysFromLastPayment_rolling6_max']\n",
    "  df['DiffDaysFromLastPayment_6_3_mean'] = df['DaysFromLastPayment_rolling3_mean'] / df['DaysFromLastPayment_rolling6_mean']\n",
    "\n",
    "\n",
    "  df['PrincipalEstimated'] =  df['PaymentPrincipal_historical_median'] * df['EstimatedNPayedQuota']\n",
    "  # df = get_loan_vars(df, rolling_window=6)\n",
    "\n",
    "  # tested variables with worst performance\n",
    "  # df['AmountVsQuote'] = df['PaymentAmount']/df['InstallmentQuoteAmount']\n",
    "  # df['InterestVsAmount'] = df['PaymentInterest']/df['PaymentAmount']\n",
    "  # df['VatVsAmount'] = df['PaymentVAT']/df['PaymentAmount']\n",
    "  # df = df.merge(get_mean_from_train(df, col_to_aggregate='Type', var_to_aggregate='AmountVsQuote', with_rolling=True), how='left')\n",
    "  # df = df.merge(get_mean_from_train(df, col_to_aggregate='Type', var_to_aggregate='PrincipalVsAmount', with_rolling=True), how='left')\n",
    "  # df['WeighedQuoteAmount'] = df['InstallmentQuoteAmount'] * df['TypeAmountVsQuoteRolling7_perQuoteMean']\n",
    "  # df['WeighedQuoteAmount_perQuote'] = df['WeighedQuoteAmount'] * df['TypePrincipalVsAmountRolling7_perQuoteMean']\n",
    "  # df = df.merge(get_mean_from_train(df, col_to_aggregate=None, var_to_aggregate='PrincipalVsAmount', with_rolling=False), how='left')\n",
    "  # df = df.merge(get_mean_from_train(df, col_to_aggregate=None, var_to_aggregate='InterestVsAmount', with_rolling=False), how='left')\n",
    "  # df = df.merge(get_mean_from_train(df, col_to_aggregate=None, var_to_aggregate='VatVsAmount', with_rolling=False), how='left')\n",
    "  # df['LoanAdvance'] = df['MonthsFromOri']*2/df['Term']\n",
    "\n",
    "  # to_group = ['LoanId','PaymentsMonthsFromOri']\n",
    "  # aux = df.groupby(to_group).size().reset_index()\n",
    "  # df['MonthsFromLastPayment'] = aux[to_group].groupby('LoanId').transform(lambda x: x.diff())\n",
    "\n",
    "  # df['PaymentDay'] = df.PaymentProcessingDate.dt.strftime('%m-%d').astype('object')\n",
    "  # df['PaymentMonth'] = df.PaymentProcessingDate.dt.month.astype('object')\n",
    "  #df['AgencyProcessingDelay'] = (df['PaymentProcessingDate'] - df['PaymentTransferDate'])/np.timedelta64(1, 'D')\n",
    "\n",
    "  df.drop(columns=['PaymentSource','ProductName','PaysPerMonth','PreviousProcessingDate'],inplace=True)\n",
    "\n",
    "  if validation_set is not None:\n",
    "    df.loc[df['SetType']=='Validation', 'PaymentPrincipal'] = valid_target.values\n",
    "  \n",
    "  return df"
   ]
  },
  {
   "cell_type": "code",
   "execution_count": 8,
   "metadata": {
    "id": "NwHuWbBBGKyu",
    "lines_to_next_cell": 0
   },
   "outputs": [],
   "source": [
    "def set_dates(df):\n",
    "  \"\"\"Set de tipo datetime a variables de fecha en el dataset\n",
    "\n",
    "  Args:\n",
    "      df (pd.DataFrame): set de datos full\n",
    "\n",
    "  Returns:\n",
    "      pd.DataFrame: set de datos con las fechas casteadas\n",
    "  \"\"\"  \n",
    "  # date columns\n",
    "  date_cols = ['OriginationDate','PaymentProcessingDate','PaymentDueDate','PaymentTransferDate']\n",
    "  for i in date_cols:\n",
    "    df[i] = pd.to_datetime(df[i])\n",
    "  return df"
   ]
  },
  {
   "cell_type": "code",
   "execution_count": 9,
   "metadata": {
    "lines_to_next_cell": 2
   },
   "outputs": [],
   "source": [
    "def validate_model(df, \n",
    "                date_col, \n",
    "                target_col, \n",
    "                feat_cols, \n",
    "                params):\n",
    "  \"\"\"Entrenamiento del modelo contra set de validación\n",
    "\n",
    "  Args:\n",
    "      df (pd.DataFrame): set de datos completo\n",
    "      date_col (str): nombre de la columna de fecha que ordena los registros\n",
    "      target_col (str): nombre de la columna target\n",
    "      feat_cols (list): lista de features del modelo\n",
    "      params (dict): parametros del modelo\n",
    "\n",
    "  Returns:\n",
    "      Booster, array: modelo, lista de predicciones\n",
    "  \"\"\"  \n",
    "  train_filter = (df['SetType']=='Train')\n",
    "  valid_filter = (df['SetType']=='Validation')\n",
    "  list_str_obj_cols = df[feat_cols].columns[df[feat_cols].dtypes == \"object\"].tolist()\n",
    "  for str_obj_col in list_str_obj_cols:\n",
    "      df[str_obj_col] = df[str_obj_col].astype(\"category\")\n",
    "  print(f'Categorical columns:{df[feat_cols].columns[df[feat_cols].dtypes == \"category\"]}')\n",
    "\n",
    "  X_train, y_train = df.loc[train_filter,feat_cols], df.loc[train_filter, target_col]\n",
    "  X_valid, y_valid = df.loc[valid_filter,feat_cols], df.loc[valid_filter, target_col]\n",
    "  X_dates = df.loc[train_filter,date_col]\n",
    "  valid_dates = df.loc[valid_filter,date_col]\n",
    "\n",
    "  print(\"Train Date range: {} to {}\".format(X_dates.min(),X_dates.max()))\n",
    "  print(\"Valid Date range: {} to {}\".format(valid_dates.min(),valid_dates.max()))\n",
    "  \n",
    "  lgb_train = lgb.Dataset(X_train, y_train)\n",
    "  lgb_eval = lgb.Dataset(X_valid, y_valid, reference=lgb_train)\n",
    "\n",
    "  lgb_results = {}\n",
    "  gbm = lgb.train(params,\n",
    "                  lgb_train,\n",
    "                  valid_sets=[lgb_train, lgb_eval],\n",
    "                  valid_names=['Train', 'Valid'],\n",
    "                  verbose_eval=10, \n",
    "                  num_boost_round=2000,\n",
    "                  early_stopping_rounds=50,\n",
    "                  evals_result=lgb_results)\n",
    "  print(gbm.best_iteration)\n",
    "  y_pred = gbm.predict(X_valid)\n",
    "  mae = mean_absolute_error(y_valid, y_pred)\n",
    "  print(\"Best MAE:\", mae)\n",
    "\n",
    "  feat_importance=pd.DataFrame()\n",
    "  feat_importance[\"Importance\"]=gbm.feature_importance()\n",
    "  feat_importance.set_index(X_train.columns, inplace=True)\n",
    "\n",
    "\n",
    "  ################################\n",
    "  # training chart\n",
    "  fig = plt.figure(figsize=(15, 10))\n",
    "\n",
    "  # loss\n",
    "  plt.subplot(1,2,1)\n",
    "  loss_train = lgb_results['Train']['l1']\n",
    "  loss_test = lgb_results['Valid']['l1']   \n",
    "  plt.xlabel('Iteration')\n",
    "  plt.ylabel('mae')\n",
    "  plt.plot(loss_train, label='train mae')\n",
    "  plt.plot(loss_test, label='valid mae')\n",
    "  plt.legend()\n",
    "\n",
    "  # feature importance\n",
    "  plt.subplot(1,2,2)\n",
    "  importance = pd.DataFrame({'feature':feat_cols, 'importance':gbm.feature_importance()})\n",
    "  sns.barplot(x = 'importance', y = 'feature', data = importance.sort_values('importance', ascending=False))\n",
    "\n",
    "  plt.tight_layout()\n",
    "  plt.show()\n",
    "  \n",
    "  return gbm, y_pred"
   ]
  },
  {
   "cell_type": "markdown",
   "metadata": {
    "id": "k72M5nnqa4sp"
   },
   "source": [
    "# <div style=\"padding:20px;color:white;margin:0;font-size:100%;text-align:left;display:fill;border-radius:5px;background-color:#6A79BA;overflow:hidden\">5 | Validación Modelo</div>\n"
   ]
  },
  {
   "cell_type": "markdown",
   "metadata": {
    "id": "w2jq2kjtbJMZ"
   },
   "source": [
    "### Generar Features con split"
   ]
  },
  {
   "cell_type": "markdown",
   "metadata": {},
   "source": [
    "Como mencionabamos al inicio de la notebook tomamos los primeros 4 meses de datos para entrenar un modelo y el resto de la data para validar. \n",
    "\n",
    "Si no corrimos nunca la notebook usar USE_PRECOMPUTE=False para generar la data, en posteriores corridas podemos utilizar las variables ya calculadas."
   ]
  },
  {
   "cell_type": "code",
   "execution_count": 10,
   "metadata": {
    "colab": {
     "base_uri": "https://localhost:8080/"
    },
    "id": "D_QciGJ9asCL",
    "outputId": "7e098b9b-a8b0-493f-b575-cf694327bd6e"
   },
   "outputs": [],
   "source": [
    "train_to = '2019-05-01'\n",
    "test_to = '2020-07-01'\n",
    "#loans = pd.Series(payments.LoanId.unique()).sample(10000)\n",
    "#condition = payments.LoanId.isin(loans)\n",
    "file_name = project_folder+'df_train'+train_to[:7]+'_test'+test_to[:7]+version+'.csv'\n",
    "dtypes_name = project_folder+'dtypes_'+version+'_valid.json'\n",
    "if (USE_PRECOMPUTED):\n",
    "  df = pd.read_csv(file_name)\n",
    "  with open(dtypes_name, 'r') as f:\n",
    "    data_types = json.load(f)\n",
    "  for k in data_types:\n",
    "    if k in df.columns and data_types[k]!='datetime64[ns]':\n",
    "        df[k] = df[k].astype(data_types[k])\n",
    "  df = set_dates(df)\n",
    "else:\n",
    "  train_filter = (payments['PaymentProcessingDate']<=train_to) #& condition\n",
    "  valid_filter = (payments['PaymentProcessingDate']>train_to) & (payments['PaymentProcessingDate']<test_to) #& condition\n",
    "  df = fe(payments[train_filter].copy(), loans_info, dindexdto, #agencies,\n",
    "          validation_set=payments[valid_filter].copy())\n",
    "  df.to_csv(file_name, index=False)\n",
    "  with open(dtypes_name, 'w') as f:\n",
    "      json.dump(df.dtypes.astype(str).to_dict(), f)"
   ]
  },
  {
   "cell_type": "markdown",
   "metadata": {
    "id": "mvZECIc_dHYv"
   },
   "source": [
    "### Features "
   ]
  },
  {
   "cell_type": "code",
   "execution_count": 11,
   "metadata": {
    "id": "KhHfwjnkdQQK"
   },
   "outputs": [],
   "source": [
    "header_cols = ['LoanId','PaymentProcessingDate','PaymentTransferDate','PaymentDueDate', 'PaymentPrincipal','DelayPayment','SetType', 'PrincipalVsQuote']\n",
    "model_features = ['PaymentType',\n",
    "                  'AgencyId',\n",
    "                  'FundingID',\n",
    "                  'InstallmentAmount',\n",
    "                  #'Periodicity',\n",
    "                  #'LoanOperationalStatus',\n",
    "                  # 'VAT',\n",
    "                  'Term',\n",
    "                  # 'D-IndexedTo',\n",
    "                  #'Country',\n",
    "                  'LoanOriginationYear',\n",
    "                  # 'PaysPerMonth',\n",
    "                  'LoanMonths',\n",
    "                  'InstallmentQuoteAmount',\n",
    "                  'MonthsFromOri',\n",
    "                  'PrincipalVsQuote_perQuoteMean',\n",
    "                  'TypePrincipalVsQuote_mean',\n",
    "                  'D-IndexedToPrincipalVsQuote_mean',\n",
    "                  'AgencyIdPrincipalVsQuote_mean',\n",
    "                  'FundingIDPrincipalVsQuote_mean',\n",
    "                  'DelayPayment_historical_median', \n",
    "                  'DelayPayment_historical_max', \n",
    "                 \n",
    "                  'DaysFromLastPayment',\n",
    "                  'PrincipalEstimated',\n",
    "                  'EstimatedNPayedQuota',\n",
    "                  'DaysFromLastPayment_rolling6_mean',\n",
    "                  'DaysFromLastPayment_rolling6_max',\n",
    "                  'PaymentPrincipal_historical_median',\n",
    "                  'PaymentPrincipal_historical_max',\n",
    "                  'PaymentPrincipal_historical_count',\n",
    "                  'PaymentPrincipal_perPayment_historical_median',\n",
    "                  'PaymentPrincipal_perPayment_historical_max',\n",
    "                  'PrincipalVsQuote_historical_median',\n",
    "                  'PrincipalVsQuote_historical_max',\n",
    "                  'DaysFromLastPayment_historical_median',\n",
    "                  'DaysFromLastPayment_historical_max',\n",
    "                  \n",
    "                  'DaysFromLastPayment_rolling3_mean',\n",
    "                  'DaysFromLastPayment_rolling3_max',\n",
    "                  'PaymentPrincipal_npayments_historical_max',\n",
    "                  'PaymentDueDate_nunique_historical_max',\n",
    "                  'DiffDaysFromLastPayment_6_3_max',\n",
    "                  'DiffDaysFromLastPayment_6_3_mean',\n",
    "\n",
    "                  \n",
    "                  #---Agregar\n",
    "                  #'Prediction from regression'\n",
    "]\n",
    "target = 'PaymentPrincipal'"
   ]
  },
  {
   "cell_type": "markdown",
   "metadata": {},
   "source": [
    "### Optimización parámetros"
   ]
  },
  {
   "cell_type": "markdown",
   "metadata": {},
   "source": [
    "Proceso de optimización de hiperparámetros del algortimo, puesto en false por defecto ya que es un poco lento (no mas de 10 min), de aquí salieron los parámetros seteados a continuación."
   ]
  },
  {
   "cell_type": "code",
   "execution_count": 12,
   "metadata": {},
   "outputs": [],
   "source": [
    "if (TUNE_PARAMETERS):\n",
    "    from verstack import LGBMTuner\n",
    "    \n",
    "    train_filter = (df['SetType']=='Train')\n",
    "    valid_filter = (df['SetType']=='Validation')\n",
    "    list_str_obj_cols = df[model_features].columns[df[model_features].dtypes == \"object\"].tolist()\n",
    "    for str_obj_col in list_str_obj_cols:\n",
    "        df[str_obj_col] = df[str_obj_col].astype(\"category\")\n",
    "    print(f'Categorical columns:{df[model_features].columns[df[model_features].dtypes == \"category\"]}')\n",
    "\n",
    "    X_train, y_train = df.loc[train_filter,model_features], df.loc[train_filter, target]\n",
    "    X_valid, y_valid = df.loc[valid_filter,model_features], df.loc[valid_filter, target]\n",
    "    # tune the hyperparameters and fit the optimized model\n",
    "    tuner = LGBMTuner(metric = 'mae') # <- the only required argument\n",
    "    tuner.fit(X_train, y_train)\n",
    "    # check the optimization log in the console.\n",
    "    pred = tuner.predict(X_valid)\n",
    "    mae = mean_absolute_error(y_valid, pred)\n",
    "    print(\"Best MAE:\", mae)\n",
    "    print(tuner.best_params)"
   ]
  },
  {
   "cell_type": "markdown",
   "metadata": {},
   "source": [
    "### Parámetros"
   ]
  },
  {
   "cell_type": "code",
   "execution_count": 13,
   "metadata": {},
   "outputs": [],
   "source": [
    "params =  {\n",
    " 'learning_rate': 0.05,\n",
    " 'num_leaves': 242,\n",
    " 'colsample_bytree': 0.8184760893279794,\n",
    " 'subsample': 0.5382071904887805,\n",
    " 'verbosity': -1,\n",
    " 'random_state': 42,\n",
    " 'objective': 'regression',\n",
    " 'metric': 'l1',\n",
    " 'num_threads': 14,\n",
    " 'min_sum_hessian_in_leaf': 0.006706207126441575,\n",
    " 'reg_alpha': 5.3006159843660915e-08,\n",
    " 'reg_lambda': 0.0008648312997620131,\n",
    " 'n_estimators': 430\n",
    "}"
   ]
  },
  {
   "cell_type": "markdown",
   "metadata": {},
   "source": [
    "### Validación"
   ]
  },
  {
   "cell_type": "code",
   "execution_count": 14,
   "metadata": {
    "colab": {
     "base_uri": "https://localhost:8080/",
     "height": 905
    },
    "id": "JkBKAOLdcGXI",
    "outputId": "0ac0d8cc-eb58-4ad5-bee4-6be691b67b79"
   },
   "outputs": [
    {
     "name": "stderr",
     "output_type": "stream",
     "text": [
      "/tmp/ipykernel_110600/3530236551.py:22: SettingWithCopyWarning: \n",
      "A value is trying to be set on a copy of a slice from a DataFrame.\n",
      "Try using .loc[row_indexer,col_indexer] = value instead\n",
      "\n",
      "See the caveats in the documentation: https://pandas.pydata.org/pandas-docs/stable/user_guide/indexing.html#returning-a-view-versus-a-copy\n",
      "  df[str_obj_col] = df[str_obj_col].astype(\"category\")\n",
      "/tmp/ipykernel_110600/3530236551.py:22: SettingWithCopyWarning: \n",
      "A value is trying to be set on a copy of a slice from a DataFrame.\n",
      "Try using .loc[row_indexer,col_indexer] = value instead\n",
      "\n",
      "See the caveats in the documentation: https://pandas.pydata.org/pandas-docs/stable/user_guide/indexing.html#returning-a-view-versus-a-copy\n",
      "  df[str_obj_col] = df[str_obj_col].astype(\"category\")\n",
      "/tmp/ipykernel_110600/3530236551.py:22: SettingWithCopyWarning: \n",
      "A value is trying to be set on a copy of a slice from a DataFrame.\n",
      "Try using .loc[row_indexer,col_indexer] = value instead\n",
      "\n",
      "See the caveats in the documentation: https://pandas.pydata.org/pandas-docs/stable/user_guide/indexing.html#returning-a-view-versus-a-copy\n",
      "  df[str_obj_col] = df[str_obj_col].astype(\"category\")\n"
     ]
    },
    {
     "name": "stdout",
     "output_type": "stream",
     "text": [
      "Categorical columns:Index(['PaymentType', 'AgencyId', 'FundingID'], dtype='object')\n",
      "Train Date range: 2019-01-04 00:00:00 to 2019-04-30 00:00:00\n",
      "Valid Date range: 2019-05-02 00:00:00 to 2020-06-30 00:00:00\n"
     ]
    },
    {
     "name": "stderr",
     "output_type": "stream",
     "text": [
      "/home/tiago/.pyenv/versions/3.9.12/lib/python3.9/site-packages/lightgbm/engine.py:177: UserWarning: Found `n_estimators` in params. Will use it instead of argument\n",
      "  _log_warning(f\"Found `{alias}` in params. Will use it instead of argument\")\n",
      "/home/tiago/.pyenv/versions/3.9.12/lib/python3.9/site-packages/lightgbm/engine.py:181: UserWarning: 'early_stopping_rounds' argument is deprecated and will be removed in a future release of LightGBM. Pass 'early_stopping()' callback via 'callbacks' argument instead.\n",
      "  _log_warning(\"'early_stopping_rounds' argument is deprecated and will be removed in a future release of LightGBM. \"\n",
      "/home/tiago/.pyenv/versions/3.9.12/lib/python3.9/site-packages/lightgbm/engine.py:240: UserWarning: 'verbose_eval' argument is deprecated and will be removed in a future release of LightGBM. Pass 'log_evaluation()' callback via 'callbacks' argument instead.\n",
      "  _log_warning(\"'verbose_eval' argument is deprecated and will be removed in a future release of LightGBM. \"\n",
      "/home/tiago/.pyenv/versions/3.9.12/lib/python3.9/site-packages/lightgbm/engine.py:261: UserWarning: 'evals_result' argument is deprecated and will be removed in a future release of LightGBM. Pass 'record_evaluation()' callback via 'callbacks' argument instead.\n",
      "  _log_warning(\"'evals_result' argument is deprecated and will be removed in a future release of LightGBM. \"\n",
      "/home/tiago/.pyenv/versions/3.9.12/lib/python3.9/site-packages/lightgbm/basic.py:1780: UserWarning: Overriding the parameters from Reference Dataset.\n",
      "  _log_warning('Overriding the parameters from Reference Dataset.')\n",
      "/home/tiago/.pyenv/versions/3.9.12/lib/python3.9/site-packages/lightgbm/basic.py:1513: UserWarning: categorical_column in param dict is overridden.\n",
      "  _log_warning(f'{cat_alias} in param dict is overridden.')\n"
     ]
    },
    {
     "name": "stdout",
     "output_type": "stream",
     "text": [
      "Training until validation scores don't improve for 50 rounds\n",
      "[10]\tTrain's l1: 239.599\tValid's l1: 446.381\n",
      "[20]\tTrain's l1: 168.738\tValid's l1: 395.854\n",
      "[30]\tTrain's l1: 126.577\tValid's l1: 368.986\n",
      "[40]\tTrain's l1: 101.343\tValid's l1: 354.026\n",
      "[50]\tTrain's l1: 86.108\tValid's l1: 346.036\n",
      "[60]\tTrain's l1: 76.3108\tValid's l1: 340.922\n",
      "[70]\tTrain's l1: 69.9469\tValid's l1: 337.85\n",
      "[80]\tTrain's l1: 64.9671\tValid's l1: 335.62\n",
      "[90]\tTrain's l1: 61.4478\tValid's l1: 333.882\n",
      "[100]\tTrain's l1: 58.4519\tValid's l1: 333.246\n",
      "[110]\tTrain's l1: 56.2764\tValid's l1: 333.031\n",
      "[120]\tTrain's l1: 54.6781\tValid's l1: 333.472\n",
      "[130]\tTrain's l1: 53.2709\tValid's l1: 334.131\n",
      "[140]\tTrain's l1: 52.0056\tValid's l1: 334.872\n",
      "[150]\tTrain's l1: 50.8984\tValid's l1: 335.92\n",
      "[160]\tTrain's l1: 50.0155\tValid's l1: 337.872\n",
      "Early stopping, best iteration is:\n",
      "[112]\tTrain's l1: 55.9891\tValid's l1: 333.027\n",
      "112\n",
      "Best MAE: 333.0269485901905\n"
     ]
    },
    {
     "data": {
      "image/png": "[encoded data removed]",
      "text/plain": [
       "<Figure size 1080x720 with 2 Axes>"
      ]
     },
     "metadata": {
      "needs_background": "light"
     },
     "output_type": "display_data"
    }
   ],
   "source": [
    "model, preds = validate_model(df[(df.PaymentPrincipal_historical_max.notnull()) | (df.SetType=='Validation')],\n",
    "                    'PaymentProcessingDate', \n",
    "                    target, \n",
    "                    model_features, \n",
    "                    params)"
   ]
  },
  {
   "cell_type": "markdown",
   "metadata": {
    "id": "qVUa-0-5g-w1"
   },
   "source": [
    "### Cálculo mae primer semestre 2020"
   ]
  },
  {
   "cell_type": "code",
   "execution_count": 15,
   "metadata": {
    "colab": {
     "base_uri": "https://localhost:8080/"
    },
    "id": "Q1ipMYkVeTwG",
    "outputId": "a739007c-9225-4f4a-9925-1d273ac2e107"
   },
   "outputs": [
    {
     "name": "stdout",
     "output_type": "stream",
     "text": [
      "MAE original: 314.1184048560672\n"
     ]
    }
   ],
   "source": [
    "aux = df[df.SetType=='Validation'].reset_index(drop=True)\n",
    "aux['preds'] = pd.Series(preds,name='preds')\n",
    "aux = aux[['LoanId','PaymentProcessingDate','PaymentPrincipal','PaymentPrincipal_historical_max', 'PaymentType','InstallmentAmount','preds']]\n",
    "date_from_filter = (aux.PaymentProcessingDate>'2020-01-01')\n",
    "mae = mean_absolute_error(aux.loc[date_from_filter,'PaymentPrincipal'], aux.loc[date_from_filter,'preds'])\n",
    "print(\"MAE original:\", mae)"
   ]
  },
  {
   "cell_type": "markdown",
   "metadata": {},
   "source": [
    "### Análisis mayores diferencias respecto del target"
   ]
  },
  {
   "cell_type": "code",
   "execution_count": 16,
   "metadata": {
    "id": "v8iGBYsUd_QY"
   },
   "outputs": [
    {
     "data": {
      "text/html": [
       "<div>\n",
       "<style scoped>\n",
       "    .dataframe tbody tr th:only-of-type {\n",
       "        vertical-align: middle;\n",
       "    }\n",
       "\n",
       "    .dataframe tbody tr th {\n",
       "        vertical-align: top;\n",
       "    }\n",
       "\n",
       "    .dataframe thead th {\n",
       "        text-align: right;\n",
       "    }\n",
       "</style>\n",
       "<table border=\"1\" class=\"dataframe\">\n",
       "  <thead>\n",
       "    <tr style=\"text-align: right;\">\n",
       "      <th></th>\n",
       "      <th>LoanId</th>\n",
       "      <th>PaymentProcessingDate</th>\n",
       "      <th>PaymentPrincipal</th>\n",
       "      <th>PaymentPrincipal_historical_max</th>\n",
       "      <th>PaymentType</th>\n",
       "      <th>InstallmentAmount</th>\n",
       "      <th>preds</th>\n",
       "      <th>diffReal</th>\n",
       "      <th>PaymentVsInstallmentAmount</th>\n",
       "    </tr>\n",
       "  </thead>\n",
       "  <tbody>\n",
       "    <tr>\n",
       "      <th>850328</th>\n",
       "      <td>669724</td>\n",
       "      <td>2019-06-21</td>\n",
       "      <td>350000.000</td>\n",
       "      <td>NaN</td>\n",
       "      <td>1.000</td>\n",
       "      <td>607800.890</td>\n",
       "      <td>1017.177</td>\n",
       "      <td>348982.823</td>\n",
       "      <td>0.576</td>\n",
       "    </tr>\n",
       "    <tr>\n",
       "      <th>741528</th>\n",
       "      <td>661420</td>\n",
       "      <td>2019-08-06</td>\n",
       "      <td>350000.000</td>\n",
       "      <td>NaN</td>\n",
       "      <td>4.000</td>\n",
       "      <td>898176.000</td>\n",
       "      <td>1233.766</td>\n",
       "      <td>348766.234</td>\n",
       "      <td>0.390</td>\n",
       "    </tr>\n",
       "    <tr>\n",
       "      <th>689311</th>\n",
       "      <td>657046</td>\n",
       "      <td>2019-12-05</td>\n",
       "      <td>344204.970</td>\n",
       "      <td>NaN</td>\n",
       "      <td>4.000</td>\n",
       "      <td>898176.000</td>\n",
       "      <td>1161.021</td>\n",
       "      <td>343043.949</td>\n",
       "      <td>0.383</td>\n",
       "    </tr>\n",
       "    <tr>\n",
       "      <th>828255</th>\n",
       "      <td>668084</td>\n",
       "      <td>2019-05-03</td>\n",
       "      <td>330065.680</td>\n",
       "      <td>NaN</td>\n",
       "      <td>4.000</td>\n",
       "      <td>607800.890</td>\n",
       "      <td>1230.997</td>\n",
       "      <td>328834.683</td>\n",
       "      <td>0.543</td>\n",
       "    </tr>\n",
       "    <tr>\n",
       "      <th>890633</th>\n",
       "      <td>672854</td>\n",
       "      <td>2019-06-27</td>\n",
       "      <td>325665.190</td>\n",
       "      <td>NaN</td>\n",
       "      <td>4.000</td>\n",
       "      <td>607800.890</td>\n",
       "      <td>948.703</td>\n",
       "      <td>324716.487</td>\n",
       "      <td>0.536</td>\n",
       "    </tr>\n",
       "    <tr>\n",
       "      <th>940978</th>\n",
       "      <td>676835</td>\n",
       "      <td>2019-08-22</td>\n",
       "      <td>324000.000</td>\n",
       "      <td>NaN</td>\n",
       "      <td>4.000</td>\n",
       "      <td>831454.200</td>\n",
       "      <td>948.217</td>\n",
       "      <td>323051.783</td>\n",
       "      <td>0.390</td>\n",
       "    </tr>\n",
       "    <tr>\n",
       "      <th>921218</th>\n",
       "      <td>675306</td>\n",
       "      <td>2019-06-21</td>\n",
       "      <td>323500.000</td>\n",
       "      <td>NaN</td>\n",
       "      <td>1.000</td>\n",
       "      <td>561781.680</td>\n",
       "      <td>619.575</td>\n",
       "      <td>322880.425</td>\n",
       "      <td>0.576</td>\n",
       "    </tr>\n",
       "    <tr>\n",
       "      <th>874163</th>\n",
       "      <td>671563</td>\n",
       "      <td>2019-11-19</td>\n",
       "      <td>322500.000</td>\n",
       "      <td>NaN</td>\n",
       "      <td>4.000</td>\n",
       "      <td>827604.600</td>\n",
       "      <td>691.410</td>\n",
       "      <td>321808.590</td>\n",
       "      <td>0.390</td>\n",
       "    </tr>\n",
       "    <tr>\n",
       "      <th>743359</th>\n",
       "      <td>661562</td>\n",
       "      <td>2019-05-16</td>\n",
       "      <td>320048.160</td>\n",
       "      <td>NaN</td>\n",
       "      <td>4.000</td>\n",
       "      <td>607800.890</td>\n",
       "      <td>940.711</td>\n",
       "      <td>319107.449</td>\n",
       "      <td>0.527</td>\n",
       "    </tr>\n",
       "    <tr>\n",
       "      <th>872831</th>\n",
       "      <td>671464</td>\n",
       "      <td>2019-07-26</td>\n",
       "      <td>316530.570</td>\n",
       "      <td>NaN</td>\n",
       "      <td>4.000</td>\n",
       "      <td>607800.890</td>\n",
       "      <td>1171.421</td>\n",
       "      <td>315359.149</td>\n",
       "      <td>0.521</td>\n",
       "    </tr>\n",
       "  </tbody>\n",
       "</table>\n",
       "</div>"
      ],
      "text/plain": [
       "        LoanId PaymentProcessingDate  PaymentPrincipal  \\\n",
       "850328  669724            2019-06-21        350000.000   \n",
       "741528  661420            2019-08-06        350000.000   \n",
       "689311  657046            2019-12-05        344204.970   \n",
       "828255  668084            2019-05-03        330065.680   \n",
       "890633  672854            2019-06-27        325665.190   \n",
       "940978  676835            2019-08-22        324000.000   \n",
       "921218  675306            2019-06-21        323500.000   \n",
       "874163  671563            2019-11-19        322500.000   \n",
       "743359  661562            2019-05-16        320048.160   \n",
       "872831  671464            2019-07-26        316530.570   \n",
       "\n",
       "        PaymentPrincipal_historical_max PaymentType  InstallmentAmount  \\\n",
       "850328                              NaN       1.000         607800.890   \n",
       "741528                              NaN       4.000         898176.000   \n",
       "689311                              NaN       4.000         898176.000   \n",
       "828255                              NaN       4.000         607800.890   \n",
       "890633                              NaN       4.000         607800.890   \n",
       "940978                              NaN       4.000         831454.200   \n",
       "921218                              NaN       1.000         561781.680   \n",
       "874163                              NaN       4.000         827604.600   \n",
       "743359                              NaN       4.000         607800.890   \n",
       "872831                              NaN       4.000         607800.890   \n",
       "\n",
       "          preds   diffReal  PaymentVsInstallmentAmount  \n",
       "850328 1017.177 348982.823                       0.576  \n",
       "741528 1233.766 348766.234                       0.390  \n",
       "689311 1161.021 343043.949                       0.383  \n",
       "828255 1230.997 328834.683                       0.543  \n",
       "890633  948.703 324716.487                       0.536  \n",
       "940978  948.217 323051.783                       0.390  \n",
       "921218  619.575 322880.425                       0.576  \n",
       "874163  691.410 321808.590                       0.390  \n",
       "743359  940.711 319107.449                       0.527  \n",
       "872831 1171.421 315359.149                       0.521  "
      ]
     },
     "execution_count": 16,
     "metadata": {},
     "output_type": "execute_result"
    }
   ],
   "source": [
    "aux['diffReal']=(aux.PaymentPrincipal - aux.preds).abs()\n",
    "aux['PaymentVsInstallmentAmount']=(aux.PaymentPrincipal / aux.InstallmentAmount)\n",
    "aux.sort_values(by='diffReal',ascending=False).head(10)"
   ]
  },
  {
   "cell_type": "markdown",
   "metadata": {},
   "source": [
    "### Mejoras predicciones en función de resultados"
   ]
  },
  {
   "cell_type": "code",
   "execution_count": 17,
   "metadata": {},
   "outputs": [
    {
     "name": "stdout",
     "output_type": "stream",
     "text": [
      "MAE original: 314.1184048560672\n",
      "MAE con fix predicciones cercanas a 0: 312.9952914330133\n",
      "MAE con fix cercanas a 0 y fix similitud al maximo histórico: 312.92089533674357\n",
      "MAE con fix predicciones cercanas a 0, similitud al maximo histórico, imputacion de mediana type 4: 294.1652054717366\n"
     ]
    }
   ],
   "source": [
    "aux = df[df.SetType=='Validation'].reset_index(drop=True)\n",
    "aux['preds'] = pd.Series(preds,name='preds')\n",
    "aux = aux[['LoanId','PaymentProcessingDate','PaymentPrincipal','PaymentPrincipal_historical_max', 'PaymentType','InstallmentAmount','preds']]\n",
    "date_from_filter = (aux.PaymentProcessingDate>'2020-01-01')\n",
    "mae = mean_absolute_error(aux.loc[date_from_filter,'PaymentPrincipal'], aux.loc[date_from_filter,'preds'])\n",
    "print(\"MAE original:\", mae)\n",
    "\n",
    "# Mejoras sobre predicciones que son 0 y daban muy cercanas\n",
    "aux.loc[aux['preds']<25,'preds'] = 0\n",
    "mae = mean_absolute_error(aux.loc[date_from_filter,'PaymentPrincipal'], aux.loc[date_from_filter,'preds'])\n",
    "print(\"MAE con fix predicciones cercanas a 0:\", mae)\n",
    "\n",
    "# Mejoras sobre predicciones cercanas al maximo pagado\n",
    "aux['preds3'] = aux['preds']\n",
    "aux.loc[(aux['preds']>aux.PaymentPrincipal_historical_max*0.95) &\n",
    "        (aux['preds']<aux.PaymentPrincipal_historical_max*1.05),'preds3'] = aux.PaymentPrincipal_historical_max\n",
    "mae = mean_absolute_error(aux.loc[date_from_filter,'PaymentPrincipal'], aux.loc[date_from_filter,'preds3'])\n",
    "print(\"MAE con fix cercanas a 0 y fix similitud al maximo histórico:\", mae)\n",
    "\n",
    "# Mejoras sobre predicciones para paymentType=4\n",
    "aux['preds4'] = aux['preds3']\n",
    "aux.loc[aux['PaymentType']==4,'preds4'] = aux.InstallmentAmount*0.2\n",
    "mae = mean_absolute_error(aux.loc[date_from_filter,'PaymentPrincipal'], aux.loc[date_from_filter,'preds4'])\n",
    "print(\"MAE con fix predicciones cercanas a 0, similitud al maximo histórico, imputacion de mediana type 4:\", mae)\n"
   ]
  },
  {
   "cell_type": "markdown",
   "metadata": {},
   "source": [
    "### Predicción de un loan particular"
   ]
  },
  {
   "cell_type": "code",
   "execution_count": 18,
   "metadata": {
    "colab": {
     "base_uri": "https://localhost:8080/"
    },
    "id": "28BwwourzseP",
    "outputId": "f4b47238-53ec-47be-d4db-fb6fd78a1f1c"
   },
   "outputs": [
    {
     "name": "stdout",
     "output_type": "stream",
     "text": [
      "Categorical columns:Index(['PaymentType', 'AgencyId', 'FundingID'], dtype='object')\n"
     ]
    },
    {
     "data": {
      "text/plain": [
       "array([169.56213719, 166.95546203, 170.09696302, 170.09696302,\n",
       "       196.55404247, 170.09696302, 168.07987142, 170.10680362,\n",
       "       188.14278339, 193.5302252 , 192.06828784, 190.80182911,\n",
       "       185.47028068, 193.14081571, 185.31697871, 164.35365088,\n",
       "       196.23121311, 202.23437505, 193.95854905, 203.19528991,\n",
       "       193.13230839, 184.08963215, 192.93376007, 207.74719112,\n",
       "       202.62050012, 188.26695548])"
      ]
     },
     "execution_count": 18,
     "metadata": {},
     "output_type": "execute_result"
    }
   ],
   "source": [
    "list_str_obj_cols = df[model_features].columns[df[model_features].dtypes == \"object\"].tolist()\n",
    "for str_obj_col in list_str_obj_cols:\n",
    "    df[str_obj_col] = df[str_obj_col].astype(\"category\")\n",
    "print(f'Categorical columns:{df[model_features].columns[df[model_features].dtypes == \"category\"]}')\n",
    "model.predict(df.loc[(df.LoanId==9417757) & (df.SetType=='Validation'),model_features])"
   ]
  },
  {
   "cell_type": "markdown",
   "metadata": {
    "id": "6dAirrmtp8aM"
   },
   "source": [
    "# <div style=\"padding:20px;color:white;margin:0;font-size:100%;text-align:left;display:fill;border-radius:5px;background-color:#6A79BA;overflow:hidden\">6 | Entrenamiento Modelo</div>"
   ]
  },
  {
   "cell_type": "code",
   "execution_count": 19,
   "metadata": {
    "id": "htmDU6XPTIrW"
   },
   "outputs": [],
   "source": [
    "file_name = project_folder+'df_full'+version+'.csv'\n",
    "dtypes_name = project_folder+'dtypes_'+version+'.json'\n",
    "if (USE_PRECOMPUTED):\n",
    "  df = pd.read_csv(file_name)\n",
    "  with open(dtypes_name, 'r') as f:\n",
    "    data_types = json.load(f)\n",
    "  for k in data_types:\n",
    "    if k in df.columns and data_types[k]!='datetime64[ns]':\n",
    "        df[k] = df[k].astype(data_types[k])\n",
    "  df = set_dates(df)\n",
    "else:\n",
    "  df = fe(payments.copy(), loans_info, dindexdto, #agencies,\n",
    "          scoring=payments_scoring)\n",
    "  del loans_info, dindexdto, payments #, agencies\n",
    "  df.to_csv(file_name, index=False)\n",
    "  with open(dtypes_name, 'w') as f:\n",
    "        json.dump(df.dtypes.astype(str).to_dict(), f)"
   ]
  },
  {
   "cell_type": "code",
   "execution_count": 20,
   "metadata": {
    "id": "YgYe0pcOo2Mr"
   },
   "outputs": [
    {
     "name": "stderr",
     "output_type": "stream",
     "text": [
      "/tmp/ipykernel_110600/2964055567.py:16: SettingWithCopyWarning: \n",
      "A value is trying to be set on a copy of a slice from a DataFrame.\n",
      "Try using .loc[row_indexer,col_indexer] = value instead\n",
      "\n",
      "See the caveats in the documentation: https://pandas.pydata.org/pandas-docs/stable/user_guide/indexing.html#returning-a-view-versus-a-copy\n",
      "  df[str_obj_col] = df[str_obj_col].astype(\"category\")\n",
      "/tmp/ipykernel_110600/2964055567.py:16: SettingWithCopyWarning: \n",
      "A value is trying to be set on a copy of a slice from a DataFrame.\n",
      "Try using .loc[row_indexer,col_indexer] = value instead\n",
      "\n",
      "See the caveats in the documentation: https://pandas.pydata.org/pandas-docs/stable/user_guide/indexing.html#returning-a-view-versus-a-copy\n",
      "  df[str_obj_col] = df[str_obj_col].astype(\"category\")\n",
      "/tmp/ipykernel_110600/2964055567.py:16: SettingWithCopyWarning: \n",
      "A value is trying to be set on a copy of a slice from a DataFrame.\n",
      "Try using .loc[row_indexer,col_indexer] = value instead\n",
      "\n",
      "See the caveats in the documentation: https://pandas.pydata.org/pandas-docs/stable/user_guide/indexing.html#returning-a-view-versus-a-copy\n",
      "  df[str_obj_col] = df[str_obj_col].astype(\"category\")\n",
      "/tmp/ipykernel_110600/2964055567.py:16: SettingWithCopyWarning: \n",
      "A value is trying to be set on a copy of a slice from a DataFrame.\n",
      "Try using .loc[row_indexer,col_indexer] = value instead\n",
      "\n",
      "See the caveats in the documentation: https://pandas.pydata.org/pandas-docs/stable/user_guide/indexing.html#returning-a-view-versus-a-copy\n",
      "  df[str_obj_col] = df[str_obj_col].astype(\"category\")\n",
      "/tmp/ipykernel_110600/2964055567.py:16: SettingWithCopyWarning: \n",
      "A value is trying to be set on a copy of a slice from a DataFrame.\n",
      "Try using .loc[row_indexer,col_indexer] = value instead\n",
      "\n",
      "See the caveats in the documentation: https://pandas.pydata.org/pandas-docs/stable/user_guide/indexing.html#returning-a-view-versus-a-copy\n",
      "  df[str_obj_col] = df[str_obj_col].astype(\"category\")\n",
      "/tmp/ipykernel_110600/2964055567.py:16: SettingWithCopyWarning: \n",
      "A value is trying to be set on a copy of a slice from a DataFrame.\n",
      "Try using .loc[row_indexer,col_indexer] = value instead\n",
      "\n",
      "See the caveats in the documentation: https://pandas.pydata.org/pandas-docs/stable/user_guide/indexing.html#returning-a-view-versus-a-copy\n",
      "  df[str_obj_col] = df[str_obj_col].astype(\"category\")\n",
      "/tmp/ipykernel_110600/2964055567.py:16: SettingWithCopyWarning: \n",
      "A value is trying to be set on a copy of a slice from a DataFrame.\n",
      "Try using .loc[row_indexer,col_indexer] = value instead\n",
      "\n",
      "See the caveats in the documentation: https://pandas.pydata.org/pandas-docs/stable/user_guide/indexing.html#returning-a-view-versus-a-copy\n",
      "  df[str_obj_col] = df[str_obj_col].astype(\"category\")\n",
      "/tmp/ipykernel_110600/2964055567.py:16: SettingWithCopyWarning: \n",
      "A value is trying to be set on a copy of a slice from a DataFrame.\n",
      "Try using .loc[row_indexer,col_indexer] = value instead\n",
      "\n",
      "See the caveats in the documentation: https://pandas.pydata.org/pandas-docs/stable/user_guide/indexing.html#returning-a-view-versus-a-copy\n",
      "  df[str_obj_col] = df[str_obj_col].astype(\"category\")\n",
      "/home/tiago/.pyenv/versions/3.9.12/lib/python3.9/site-packages/lightgbm/engine.py:177: UserWarning: Found `n_estimators` in params. Will use it instead of argument\n",
      "  _log_warning(f\"Found `{alias}` in params. Will use it instead of argument\")\n"
     ]
    }
   ],
   "source": [
    "def train_final(df, num_rounds, feat_cols, target_col, params):\n",
    "  \"\"\"Entrenamiento del modelo final.\n",
    "\n",
    "  Args:\n",
    "      df (pd.DataFrame): set de datos full\n",
    "      num_rounds (int): numero de iteraciones\n",
    "      feat_cols (list): lista de features del modelo\n",
    "      target_col (str): nombre del target\n",
    "      params (dict): parametros de entrenamiento\n",
    "\n",
    "  Returns:\n",
    "      Booster: model\n",
    "  \"\"\"  \n",
    "  list_str_obj_cols = df.columns[df.dtypes == \"object\"].tolist()\n",
    "  for str_obj_col in list_str_obj_cols:\n",
    "      df[str_obj_col] = df[str_obj_col].astype(\"category\")\n",
    "\n",
    "  train_filter = df.SetType.isin(['Train','Validation'])\n",
    "  X_train, y_train = df.loc[train_filter, feat_cols], df.loc[train_filter, target_col]\n",
    "  gbm = lgb.train(params, lgb.Dataset(X_train, y_train), num_boost_round=num_rounds)\n",
    "  return gbm\n",
    "\n",
    "model_final = train_final(df[df.PaymentPrincipal_historical_max.notnull()],\n",
    "                    model.best_iteration, \n",
    "                    model_features, \n",
    "                    target, \n",
    "                    params)"
   ]
  },
  {
   "cell_type": "markdown",
   "metadata": {
    "id": "k2Tl_IEdqH3c"
   },
   "source": [
    "# <div style=\"padding:20px;color:white;margin:0;font-size:100%;text-align:left;display:fill;border-radius:5px;background-color:#6A79BA;overflow:hidden\">7 | Inferencia</div>"
   ]
  },
  {
   "cell_type": "code",
   "execution_count": 21,
   "metadata": {
    "id": "_c3jUbxYqKAg",
    "lines_to_next_cell": 2
   },
   "outputs": [],
   "source": [
    "def predict(df, \n",
    "            feat_cols, \n",
    "            model):\n",
    "  \"\"\"Calculo de predicciones.\n",
    "\n",
    "  Args:\n",
    "      df (pd.DataFrame): set de datos full\n",
    "      feat_cols (list): lista de features del modelo\n",
    "      model (Booster): modelo para realizar predicciones\n",
    "\n",
    "  Returns:\n",
    "      pd.DataFrame: set de datos con algunas variables del loan y su prediccion final\n",
    "  \"\"\"  \n",
    "  to_infer_filter = (df['SetType']=='Test')\n",
    "\n",
    "  list_str_obj_cols = df.columns[df.dtypes == \"object\"].tolist()\n",
    "  for str_obj_col in list_str_obj_cols:\n",
    "      df[str_obj_col] = df[str_obj_col].astype(\"category\")\n",
    "\n",
    "  to_infer = df.loc[to_infer_filter,feat_cols]\n",
    "\n",
    "  result = df.loc[to_infer_filter,['LoanId','PaymentProcessingDate','PaymentType','PaymentCode','PaymentPrincipal_historical_max','InstallmentAmount']]\n",
    "  result['PaymentPrincipal'] = model.predict(to_infer)\n",
    "  result['PaymentCode'] = result['PaymentCode'].astype(int)\n",
    "  return result\n",
    "\n",
    "\n",
    "submission = predict(df, model_features, model_final)\n",
    "assert payments_scoring.shape[0]==submission.shape[0]\n",
    "submission_final = submission.copy()"
   ]
  },
  {
   "cell_type": "markdown",
   "metadata": {},
   "source": [
    "### Fixes sobre file de submission"
   ]
  },
  {
   "cell_type": "code",
   "execution_count": 22,
   "metadata": {
    "id": "JfiPpvLRq2jb"
   },
   "outputs": [],
   "source": [
    "# Fix negativos\n",
    "submission_final.loc[submission_final['PaymentPrincipal']<25,'PaymentPrincipal'] = 0\n",
    "# Fix payment cercano\n",
    "submission_final.loc[(submission_final['PaymentPrincipal']>submission_final.PaymentPrincipal_historical_max*0.95) &\n",
    "        (submission_final['PaymentPrincipal']<submission_final.PaymentPrincipal_historical_max*1.05),'PaymentPrincipal'] = submission_final.PaymentPrincipal_historical_max\n",
    "# Fix paymentType 4\n",
    "submission_final.loc[(submission_final['PaymentType']==4),'PaymentPrincipal'] = submission_final.InstallmentAmount*0.2"
   ]
  },
  {
   "cell_type": "markdown",
   "metadata": {},
   "source": [
    "### Guardando solución"
   ]
  },
  {
   "cell_type": "code",
   "execution_count": 23,
   "metadata": {
    "id": "dhcNOaT6rAaA"
   },
   "outputs": [],
   "source": [
    "submission[['PaymentCode','PaymentPrincipal']].to_csv(project_folder+'submission'+version+'.csv',header=False, index=False)\n",
    "submission_final[['PaymentCode','PaymentPrincipal']].to_csv(project_folder+'submission_final'+version+'.csv',header=False, index=False)"
   ]
  },
  {
   "cell_type": "markdown",
   "metadata": {},
   "source": [
    "# <div style=\"padding:20px;color:white;margin:0;font-size:100%;text-align:left;display:fill;border-radius:5px;background-color:#6A79BA;overflow:hidden\">8 | Próximos pasos</div>\n"
   ]
  },
  {
   "cell_type": "markdown",
   "metadata": {},
   "source": [
    "De tener mas tiempo hubiera seguido con:\n",
    "- Generar predicciones a través de un [modelo de regressión lineal](https://scikit-learn.org/stable/modules/generated/sklearn.linear_model.LinearRegression.html)\n",
    "- Generar modelos a partir de mismo algoritmo pero variando los intervalos de tiempo, entrenar con menos meses mas cercanos a la fecha\n",
    "- Probar distintas formas de ensamblarlos\n"
   ]
  },
  {
   "cell_type": "markdown",
   "metadata": {},
   "source": []
  }
 ],
 "metadata": {
  "colab": {
   "collapsed_sections": [],
   "name": "Hopp Model.ipynb",
   "provenance": [],
   "toc_visible": true
  },
  "jupytext": {
   "formats": "ipynb,py"
  },
  "kernelspec": {
   "display_name": "Python 3.9.12 64-bit ('3.9.12')",
   "language": "python",
   "name": "python3"
  },
  "language_info": {
   "codemirror_mode": {
    "name": "ipython",
    "version": 3
   },
   "file_extension": ".py",
   "mimetype": "text/x-python",
   "name": "python",
   "nbconvert_exporter": "python",
   "pygments_lexer": "ipython3",
   "version": "3.9.12"
  },
  "vscode": {
   "interpreter": {
    "hash": "23c7b4b024c51a8c576bb986405db7d19b8d8ded8d7891c9a4d1e2cf1896757c"
   }
  }
 },
 "nbformat": 4,
 "nbformat_minor": 0
}
