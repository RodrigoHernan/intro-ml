{
 "cells": [
  {
   "cell_type": "code",
   "execution_count": null,
   "metadata": {},
   "outputs": [],
   "source": [
    "# Import the necessaries libraries\n",
    "import plotly.offline as pyo\n",
    "import plotly.graph_objs as go\n",
    "# Set notebook mode to work in offline\n",
    "pyo.init_notebook_mode()\n",
    "# Create traces\n",
    "trace0 = go.Scatter(\n",
    "    x=[1, 2, 3, 4],\n",
    "    y=[10, 15, 13, 17]\n",
    ")\n",
    "trace1 = go.Scatter(\n",
    "    x=[1, 2, 3, 4],\n",
    "    y=[16, 5, 11, 9]\n",
    ")\n",
    "# Fill out data with our traces\n",
    "data = [trace0, trace1]\n",
    "# Plot it and save as basic-line.html\n",
    "pyo.iplot(data, filename = 'basic-line')"
   ]
  }
 ],
 "metadata": {
  "language_info": {
   "name": "python"
  },
  "orig_nbformat": 4
 },
 "nbformat": 4,
 "nbformat_minor": 2
}
