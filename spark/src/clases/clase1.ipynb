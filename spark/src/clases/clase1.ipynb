{
 "cells": [
  {
   "cell_type": "code",
   "execution_count": 1,
   "id": "fc74ac24",
   "metadata": {},
   "outputs": [],
   "source": [
    "from pyspark import SparkContext"
   ]
  },
  {
   "cell_type": "code",
   "execution_count": 2,
   "id": "4cc8d4ab",
   "metadata": {},
   "outputs": [],
   "source": [
    "from pyspark.sql import SparkSession"
   ]
  },
  {
   "cell_type": "code",
   "execution_count": 3,
   "id": "a0698219",
   "metadata": {},
   "outputs": [
    {
     "name": "stderr",
     "output_type": "stream",
     "text": [
      "WARNING: An illegal reflective access operation has occurred\n",
      "WARNING: Illegal reflective access by org.apache.spark.unsafe.Platform (file:/usr/local/lib/python3.8/site-packages/pyspark/jars/spark-unsafe_2.12-3.2.1.jar) to constructor java.nio.DirectByteBuffer(long,int)\n",
      "WARNING: Please consider reporting this to the maintainers of org.apache.spark.unsafe.Platform\n",
      "WARNING: Use --illegal-access=warn to enable warnings of further illegal reflective access operations\n",
      "WARNING: All illegal access operations will be denied in a future release\n",
      "Using Spark's default log4j profile: org/apache/spark/log4j-defaults.properties\n",
      "Setting default log level to \"WARN\".\n",
      "To adjust logging level use sc.setLogLevel(newLevel). For SparkR, use setLogLevel(newLevel).\n",
      "22/04/03 20:15:13 WARN NativeCodeLoader: Unable to load native-hadoop library for your platform... using builtin-java classes where applicable\n"
     ]
    }
   ],
   "source": [
    "sc = SparkContext(master='local', appName='transformacionesyacciones')\n",
    "spark2 = SparkSession(sc)"
   ]
  },
  {
   "cell_type": "code",
   "execution_count": 5,
   "id": "dc6d08ae",
   "metadata": {},
   "outputs": [],
   "source": [
    "rdd = sc.parallelize([1, 2, 3])"
   ]
  },
  {
   "cell_type": "code",
   "execution_count": 22,
   "id": "03a79b49",
   "metadata": {},
   "outputs": [
    {
     "data": {
      "text/plain": [
       "pyspark.rdd.RDD"
      ]
     },
     "execution_count": 22,
     "metadata": {},
     "output_type": "execute_result"
    }
   ],
   "source": [
    "type(rdd)"
   ]
  },
  {
   "cell_type": "code",
   "execution_count": 7,
   "id": "0d24c802",
   "metadata": {},
   "outputs": [
    {
     "data": {
      "text/plain": [
       "[1, 2, 3]"
      ]
     },
     "execution_count": 7,
     "metadata": {},
     "output_type": "execute_result"
    }
   ],
   "source": [
    "rdd.collect()"
   ]
  },
  {
   "cell_type": "code",
   "execution_count": 8,
   "id": "316b93c0",
   "metadata": {},
   "outputs": [
    {
     "data": {
      "text/html": [
       "\n",
       "        <div>\n",
       "            <p><b>SparkContext</b></p>\n",
       "\n",
       "            <p><a href=\"http://7f01ab784b03:4040\">Spark UI</a></p>\n",
       "\n",
       "            <dl>\n",
       "              <dt>Version</dt>\n",
       "                <dd><code>v3.2.1</code></dd>\n",
       "              <dt>Master</dt>\n",
       "                <dd><code>local</code></dd>\n",
       "              <dt>AppName</dt>\n",
       "                <dd><code>transformacionesyacciones</code></dd>\n",
       "            </dl>\n",
       "        </div>\n",
       "        "
      ],
      "text/plain": [
       "<SparkContext master=local appName=transformacionesyacciones>"
      ]
     },
     "execution_count": 8,
     "metadata": {},
     "output_type": "execute_result"
    }
   ],
   "source": [
    "sc"
   ]
  },
  {
   "cell_type": "code",
   "execution_count": 12,
   "id": "bf3e7955",
   "metadata": {},
   "outputs": [
    {
     "name": "stdout",
     "output_type": "stream",
     "text": [
      "deporte.csv\t deportistaError.csv  modelo_relacional.jpg\r\n",
      "deportista.csv\t evento.csv\t      paises.csv\r\n",
      "deportista2.csv  juegos.csv\t      resultados.csv\r\n"
     ]
    }
   ],
   "source": [
    "!ls ../curso/files"
   ]
  },
  {
   "cell_type": "code",
   "execution_count": 9,
   "id": "bbde06a3",
   "metadata": {},
   "outputs": [],
   "source": [
    "path = '../curso/files/'"
   ]
  },
  {
   "cell_type": "code",
   "execution_count": 13,
   "id": "cb4e735e",
   "metadata": {},
   "outputs": [],
   "source": [
    "equipos_olimpicos_rdd = sc.textFile(path+'paises.csv').map(lambda x: x.split(','))"
   ]
  },
  {
   "cell_type": "code",
   "execution_count": 11,
   "id": "7097d947",
   "metadata": {},
   "outputs": [
    {
     "name": "stderr",
     "output_type": "stream",
     "text": [
      "\r",
      "[Stage 0:>                                                          (0 + 1) / 1]\r",
      "\r",
      "                                                                                \r"
     ]
    },
    {
     "data": {
      "text/plain": [
       "[['id', 'equipo', 'sigla'],\n",
       " ['1', '30. Februar', 'AUT'],\n",
       " ['2', 'A North American Team', 'MEX'],\n",
       " ['3', 'Acipactli', 'MEX'],\n",
       " ['4', 'Acturus', 'ARG'],\n",
       " ['5', 'Afghanistan', 'AFG'],\n",
       " ['6', 'Akatonbo', 'IRL'],\n",
       " ['7', 'Alain IV', 'SUI'],\n",
       " ['8', 'Albania', 'ALB'],\n",
       " ['9', 'Alcaid', 'POR'],\n",
       " ['10', 'Alcyon-6', 'FRA'],\n",
       " ['11', 'Alcyon-7', 'FRA'],\n",
       " ['12', 'Aldebaran', 'ITA'],\n",
       " ['13', 'Aldebaran II', 'ITA'],\n",
       " ['14', 'Aletta', 'IRL']]"
      ]
     },
     "execution_count": 11,
     "metadata": {},
     "output_type": "execute_result"
    }
   ],
   "source": [
    "equipos_olimpicos_rdd.take(15)"
   ]
  },
  {
   "cell_type": "code",
   "execution_count": 42,
   "id": "f75e2425",
   "metadata": {},
   "outputs": [
    {
     "data": {
      "text/plain": [
       "231"
      ]
     },
     "execution_count": 42,
     "metadata": {},
     "output_type": "execute_result"
    }
   ],
   "source": [
    "equipos_olimpicos_rdd.map(lambda x:( x[2],)).distinct().count()"
   ]
  },
  {
   "cell_type": "code",
   "execution_count": 12,
   "id": "6f8b4e9b",
   "metadata": {},
   "outputs": [
    {
     "data": {
      "text/plain": [
       "[('sigla', 1), ('AUT', 11), ('MEX', 9), ('ARG', 18), ('AFG', 1)]"
      ]
     },
     "execution_count": 12,
     "metadata": {},
     "output_type": "execute_result"
    }
   ],
   "source": [
    "equipos_olimpicos_rdd.map(lambda x:(x[2], x[1])).groupByKey().mapValues(len).take(5)"
   ]
  },
  {
   "cell_type": "code",
   "execution_count": 47,
   "id": "6b6522be",
   "metadata": {},
   "outputs": [
    {
     "data": {
      "text/plain": [
       "[['4', 'Acturus', 'ARG'],\n",
       " ['37', 'Antares', 'ARG'],\n",
       " ['42', 'Arcturus', 'ARG'],\n",
       " ['43', 'Ardilla', 'ARG'],\n",
       " ['45', 'Argentina', 'ARG'],\n",
       " ['46', 'Argentina-1', 'ARG'],\n",
       " ['47', 'Argentina-2', 'ARG'],\n",
       " ['119', 'Blue Red', 'ARG'],\n",
       " ['238', 'Covunco III', 'ARG'],\n",
       " ['252', 'Cupidon III', 'ARG'],\n",
       " ['288', 'Djinn', 'ARG'],\n",
       " ['436', 'Gullvinge', 'ARG'],\n",
       " ['644', 'Matrero II', 'ARG'],\n",
       " ['672', 'Mizar', 'ARG'],\n",
       " ['774', 'Pampero', 'ARG'],\n",
       " ['843', 'Rampage', 'ARG'],\n",
       " ['1031', 'Tango', 'ARG'],\n",
       " ['1162', 'Wiking', 'ARG']]"
      ]
     },
     "execution_count": 47,
     "metadata": {},
     "output_type": "execute_result"
    }
   ],
   "source": [
    "equipos_olimpicos_rdd.filter(lambda r: \"ARG\" in r).collect()"
   ]
  },
  {
   "cell_type": "code",
   "execution_count": 48,
   "id": "dac1fd53",
   "metadata": {},
   "outputs": [
    {
     "data": {
      "text/plain": [
       "1185"
      ]
     },
     "execution_count": 48,
     "metadata": {},
     "output_type": "execute_result"
    }
   ],
   "source": [
    "equipos_olimpicos_rdd.count()"
   ]
  },
  {
   "cell_type": "code",
   "execution_count": 53,
   "id": "2cd1528b",
   "metadata": {},
   "outputs": [
    {
     "data": {
      "text/plain": [
       "1185"
      ]
     },
     "execution_count": 53,
     "metadata": {},
     "output_type": "execute_result"
    }
   ],
   "source": [
    "equipos_olimpicos_rdd.countApprox(20)"
   ]
  },
  {
   "cell_type": "code",
   "execution_count": 14,
   "id": "1408b84f",
   "metadata": {},
   "outputs": [],
   "source": [
    "deportista_olimpicos_rdd = sc.textFile(path+'deportista.csv').map(lambda x: x.split(','))\n",
    "deportista_olimpicos_rdd2 = sc.textFile(path+'deportista.csv').map(lambda x: x.split(','))\n",
    "deportista_olimpicos_rdd = deportista_olimpicos_rdd.union(deportista_olimpicos_rdd2)"
   ]
  },
  {
   "cell_type": "code",
   "execution_count": 67,
   "id": "ba51de36",
   "metadata": {},
   "outputs": [
    {
     "data": {
      "text/plain": [
       "[['deportista_id', 'nombre', 'genero', 'edad', 'altura', 'peso', 'equipo_id'],\n",
       " ['deportista_id', 'nombre', 'genero', 'edad', 'altura', 'peso', 'equipo_id'],\n",
       " ['9999', 'Ferenc Bene', '1', '19', '170', '70', '477'],\n",
       " ['9999', 'Ferenc Bene', '1', '19', '170', '70', '477'],\n",
       " ['9998', 'Kurt Bendlin', '1', '25', '178', '91', '1150']]"
      ]
     },
     "execution_count": 67,
     "metadata": {},
     "output_type": "execute_result"
    }
   ],
   "source": [
    "deportista_olimpicos_rdd.top(5)"
   ]
  },
  {
   "cell_type": "code",
   "execution_count": 68,
   "id": "fba53e2a",
   "metadata": {},
   "outputs": [
    {
     "data": {
      "text/plain": [
       "[['id', 'equipo', 'sigla'], ['999', 'Stella-2', 'NOR']]"
      ]
     },
     "execution_count": 68,
     "metadata": {},
     "output_type": "execute_result"
    }
   ],
   "source": [
    "equipos_olimpicos_rdd.top(2)"
   ]
  },
  {
   "cell_type": "code",
   "execution_count": 66,
   "id": "f0740aa8",
   "metadata": {},
   "outputs": [
    {
     "data": {
      "text/plain": [
       "[['deportista_id', 'nombre', 'genero', 'edad', 'altura', 'peso', 'equipo_id'],\n",
       " ['1', 'A Dijiang', '1', '24', '180', '80', '199'],\n",
       " ['2', 'A Lamusi', '1', '23', '170', '60', '199'],\n",
       " ['3', 'Gunnar Nielsen Aaby', '1', '24', '0', '0', '273'],\n",
       " ['4', 'Edgar Lindenau Aabye', '1', '34', '0', '0', '278']]"
      ]
     },
     "execution_count": 66,
     "metadata": {},
     "output_type": "execute_result"
    }
   ],
   "source": [
    "deportista_olimpicos_rdd.take(5)"
   ]
  },
  {
   "cell_type": "code",
   "execution_count": 15,
   "id": "69b36e48",
   "metadata": {},
   "outputs": [],
   "source": [
    "deportista_pais = deportista_olimpicos_rdd.map(lambda l: (l[-1], l[:-1])) \\\n",
    "    .join(equipos_olimpicos_rdd.map(lambda l: (l[0], l[2]))) "
   ]
  },
  {
   "cell_type": "code",
   "execution_count": 16,
   "id": "ceb1872e",
   "metadata": {},
   "outputs": [
    {
     "name": "stderr",
     "output_type": "stream",
     "text": [
      "                                                                                \r"
     ]
    },
    {
     "data": {
      "text/plain": [
       "[('982',\n",
       "  (['3045', 'Jos Luis Alonso Berbegal', '1', '37', '165', '76'], 'ESP')),\n",
       " ('66', (['51414', 'George Ronald Hyde', '1', '23', '0', '0'], 'AUS')),\n",
       " ('702', (['16457', 'Tejbir Bura', '1', '0', '0', '0'], 'NEP')),\n",
       " ('970', (['60205', 'Kim SangSik', '1', '23', '184', '70'], 'KOR')),\n",
       " ('825',\n",
       "  (['8120', 'Isaac Barrientos Flores', '1', '18', '190', '108'], 'PUR')),\n",
       " ('482', (['40590', 'Gudmunur Gslason', '1', '19', '178', '68'], 'ISL'))]"
      ]
     },
     "execution_count": 16,
     "metadata": {},
     "output_type": "execute_result"
    }
   ],
   "source": [
    "deportista_olimpicos_rdd.map(lambda l: (l[-1], l[:-1])) \\\n",
    "    .join(equipos_olimpicos_rdd.map(lambda l: (l[0], l[2]))) \\\n",
    "    .takeSample(False, 6, 25)"
   ]
  },
  {
   "cell_type": "code",
   "execution_count": 17,
   "id": "54b4d8b3",
   "metadata": {},
   "outputs": [],
   "source": [
    "resultado_ganador = sc.textFile(path+'resultados.csv').map(lambda x: x.split(',')) \\\n",
    "    .filter(lambda l: 'NA' not in l[1])"
   ]
  },
  {
   "cell_type": "code",
   "execution_count": 83,
   "id": "87af6a15",
   "metadata": {},
   "outputs": [
    {
     "data": {
      "text/plain": [
       "[['resultado_id', 'medalla', 'deportista_id', 'juego_id', 'evento_id'],\n",
       " ['4', 'Gold', '4', '2', '4'],\n",
       " ['38', 'Bronze', '15', '7', '19'],\n",
       " ['39', 'Bronze', '15', '7', '20'],\n",
       " ['41', 'Bronze', '16', '50', '14']]"
      ]
     },
     "execution_count": 83,
     "metadata": {},
     "output_type": "execute_result"
    }
   ],
   "source": [
    "resultado_ganador.take(5)"
   ]
  },
  {
   "cell_type": "code",
   "execution_count": 86,
   "id": "74856a8d",
   "metadata": {},
   "outputs": [
    {
     "name": "stderr",
     "output_type": "stream",
     "text": [
      "                                                                                \r"
     ]
    },
    {
     "data": {
      "text/plain": [
       "[('199', (['1', 'A Dijiang', '1', '24', '180', '80'], 'CHN')),\n",
       " ('199', (['2', 'A Lamusi', '1', '23', '170', '60'], 'CHN')),\n",
       " ('199', (['602', 'Abudoureheman', '1', '22', '182', '75'], 'CHN')),\n",
       " ('199', (['1463', 'Ai Linuer', '1', '25', '160', '62'], 'CHN')),\n",
       " ('199', (['1464', 'Ai Yanhan', '2', '14', '168', '54'], 'CHN'))]"
      ]
     },
     "execution_count": 86,
     "metadata": {},
     "output_type": "execute_result"
    }
   ],
   "source": [
    "deportista_olimpicos_rdd.map(lambda l: (l[-1], l[:-1])) \\\n",
    "    .join(equipos_olimpicos_rdd.map(lambda l: (l[0], l[2]))).take(5)"
   ]
  },
  {
   "cell_type": "code",
   "execution_count": 88,
   "id": "2a34cb25",
   "metadata": {},
   "outputs": [
    {
     "name": "stderr",
     "output_type": "stream",
     "text": [
      "                                                                                \r"
     ]
    },
    {
     "data": {
      "text/plain": [
       "[('74',\n",
       "  ((['65', 'Patimat Abakarova', '2', '21', '165', '49'], 'AZE'), 'Gold')),\n",
       " ('74', ((['129', 'Ruslan Abbasov', '1', '22', '181', '74'], 'AZE'), 'Gold')),\n",
       " ('74', ((['130', 'Tural Abbasov', '1', '18', '182', '76'], 'AZE'), 'Gold')),\n",
       " ('74', ((['131', 'Tran Abbasova', '2', '33', '159', '53'], 'AZE'), 'Gold')),\n",
       " ('74',\n",
       "  ((['335', 'Abdulqdir Abdullayev', '1', '28', '188', '91'], 'AZE'), 'Gold'))]"
      ]
     },
     "execution_count": 88,
     "metadata": {},
     "output_type": "execute_result"
    }
   ],
   "source": [
    "deportista_pais.join(resultado_ganador).take(5)"
   ]
  },
  {
   "cell_type": "code",
   "execution_count": 92,
   "id": "27d11b59",
   "metadata": {},
   "outputs": [
    {
     "name": "stderr",
     "output_type": "stream",
     "text": [
      "                                                                                \r"
     ]
    },
    {
     "data": {
      "text/plain": [
       "[('716',\n",
       "  ((['553', 'John Charles Abrams', '1', '22', '183', '0'], 'NZL'),\n",
       "   ['1277', 'Gold', '716', '47', '3'])),\n",
       " ('716',\n",
       "  ((['698', 'Paul Douglas Ackerley', '1', '27', '179', '68'], 'NZL'),\n",
       "   ['1277', 'Gold', '716', '47', '3'])),\n",
       " ('716',\n",
       "  ((['754', 'Craig Robert Adair', '1', '21', '187', '81'], 'NZL'),\n",
       "   ['1277', 'Gold', '716', '47', '3'])),\n",
       " ('716',\n",
       "  ((['846', 'Valerie Kasanita AdamsVili Price ', '2', '19', '193', '120'],\n",
       "    'NZL'),\n",
       "   ['1277', 'Gold', '716', '47', '3'])),\n",
       " ('716',\n",
       "  ((['1511', 'Michael Christopher Aish', '1', '24', '175', '60'], 'NZL'),\n",
       "   ['1277', 'Gold', '716', '47', '3']))]"
      ]
     },
     "execution_count": 92,
     "metadata": {},
     "output_type": "execute_result"
    }
   ],
   "source": [
    "deportista_pais.join(resultado_ganador.map(lambda l: [l[2], l])).take(5)"
   ]
  },
  {
   "cell_type": "code",
   "execution_count": 96,
   "id": "65b0c355",
   "metadata": {},
   "outputs": [
    {
     "name": "stderr",
     "output_type": "stream",
     "text": [
      "                                                                                \r"
     ]
    },
    {
     "data": {
      "text/plain": [
       "[('1',\n",
       "  ((['34666', 'Harald Fereberger', '1', '23', '167', '70'], 'AUT'),\n",
       "   ['610', 'Gold', '351', '43', '1'])),\n",
       " ('1',\n",
       "  ((['34666', 'Harald Fereberger', '1', '23', '167', '70'], 'AUT'),\n",
       "   ['1030', 'Bronze', '576', '51', '1'])),\n",
       " ('1',\n",
       "  ((['34666', 'Harald Fereberger', '1', '23', '167', '70'], 'AUT'),\n",
       "   ['1294', 'Bronze', '727', '19', '1'])),\n",
       " ('1',\n",
       "  ((['34666', 'Harald Fereberger', '1', '23', '167', '70'], 'AUT'),\n",
       "   ['1808', 'Bronze', '1000', '43', '1'])),\n",
       " ('1',\n",
       "  ((['34666', 'Harald Fereberger', '1', '23', '167', '70'], 'AUT'),\n",
       "   ['2749', 'Silver', '1530', '15', '1']))]"
      ]
     },
     "execution_count": 96,
     "metadata": {},
     "output_type": "execute_result"
    }
   ],
   "source": [
    "deportista_pais.join(resultado_ganador.map(lambda l: [l[4], l])).filter(lambda l: l[0] == '1').take(5)"
   ]
  },
  {
   "cell_type": "code",
   "execution_count": 30,
   "id": "2e96c551",
   "metadata": {},
   "outputs": [],
   "source": [
    "spark2.stop()"
   ]
  },
  {
   "cell_type": "code",
   "execution_count": 5,
   "id": "201b95b7",
   "metadata": {},
   "outputs": [],
   "source": [
    "\n",
    "    StructField('juego_id', IntegerType(), False),\n",
    "    StructField('anio', StringType(), False),\n",
    "    StructField('temporada', StringType(), False),\n",
    "    StructField('ciudad', StringType(), False)\n",
    " = {\n",
    "    'Gold': 7,\n",
    "    'Silver': 5,\n",
    "    'Bronze': 4\n",
    "}"
   ]
  },
  {
   "cell_type": "code",
   "execution_count": 18,
   "id": "903b8688",
   "metadata": {},
   "outputs": [],
   "source": [
    "paises_medallas = deportista_pais.join(resultado_ganador)"
   ]
  },
  {
   "cell_type": "code",
   "execution_count": 21,
   "id": "80915a84",
   "metadata": {},
   "outputs": [
    {
     "data": {
      "text/plain": [
       "[('591', ((['16317', 'Riardas Bukys', '1', '24', '0', '0'], 'LTU'), 'Silver')),\n",
       " ('678',\n",
       "  ((['19558', 'Chagnaadorjiin Ganzorig', '1', '26', '182', '84'], 'MGL'),\n",
       "   'Silver')),\n",
       " ('656',\n",
       "  ((['718', 'Luis Angel Acosta', '1', '20', '180', '73'], 'MEX'), 'Bronze')),\n",
       " ('656',\n",
       "  ((['48077', 'Rodolfo Hernndez Vzquez', '1', '26', '172', '80'], 'MEX'),\n",
       "   'Bronze')),\n",
       " ('174', ((['16976', 'Jacob Butula', '1', '21', '0', '0'], 'CAN'), 'Gold'))]"
      ]
     },
     "execution_count": 21,
     "metadata": {},
     "output_type": "execute_result"
    }
   ],
   "source": [
    "paises_medallas.takeSample(True, 5)"
   ]
  },
  {
   "cell_type": "code",
   "execution_count": 25,
   "id": "4b36b453",
   "metadata": {},
   "outputs": [],
   "source": [
    "paises_medallas = paises_medallas.map(lambda l: (l[1][0][-1], valores_medallas[l[1][1]]))"
   ]
  },
  {
   "cell_type": "code",
   "execution_count": 26,
   "id": "add2aae7",
   "metadata": {},
   "outputs": [],
   "source": [
    "from operator import add"
   ]
  },
  {
   "cell_type": "code",
   "execution_count": 27,
   "id": "05d97b00",
   "metadata": {},
   "outputs": [],
   "source": [
    "result = paises_medallas.reduceByKey((add)).sortBy(lambda x: x[1], ascending=False)"
   ]
  },
  {
   "cell_type": "code",
   "execution_count": 29,
   "id": "46357ee6",
   "metadata": {},
   "outputs": [
    {
     "data": {
      "text/plain": [
       "[('CAN', 33142),\n",
       " ('ARG', 12908),\n",
       " ('HUN', 11272),\n",
       " ('MEX', 6056),\n",
       " ('RSA', 3480),\n",
       " ('BLR', 3080),\n",
       " ('MGL', 1530),\n",
       " ('USA', 1370),\n",
       " ('LTU', 1220),\n",
       " ('AZE', 1176)]"
      ]
     },
     "execution_count": 29,
     "metadata": {},
     "output_type": "execute_result"
    }
   ],
   "source": [
    "result.take(10)"
   ]
  },
  {
   "cell_type": "code",
   "execution_count": null,
   "id": "43b64c9c",
   "metadata": {},
   "outputs": [],
   "source": []
  }
 ],
 "metadata": {
  "kernelspec": {
   "display_name": "Python 3 (ipykernel)",
   "language": "python",
   "name": "python3"
  },
  "language_info": {
   "codemirror_mode": {
    "name": "ipython",
    "version": 3
   },
   "file_extension": ".py",
   "mimetype": "text/x-python",
   "name": "python",
   "nbconvert_exporter": "python",
   "pygments_lexer": "ipython3",
   "version": "3.8.13"
  }
 },
 "nbformat": 4,
 "nbformat_minor": 5
}
