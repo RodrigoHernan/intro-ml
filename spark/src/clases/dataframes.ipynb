{
 "cells": [
  {
   "cell_type": "code",
   "execution_count": 1,
   "id": "fc74ac24",
   "metadata": {},
   "outputs": [],
   "source": [
    "from pyspark import SparkContext\n",
    "from pyspark.sql import SparkSession\n",
    "\n",
    "from pyspark.sql.types import StructType, StructField, IntegerType, FloatType, Row, StringType\n"
   ]
  },
  {
   "cell_type": "code",
   "execution_count": 2,
   "id": "a0698219",
   "metadata": {},
   "outputs": [
    {
     "name": "stderr",
     "output_type": "stream",
     "text": [
      "WARNING: An illegal reflective access operation has occurred\n",
      "WARNING: Illegal reflective access by org.apache.spark.unsafe.Platform (file:/usr/local/lib/python3.8/site-packages/pyspark/jars/spark-unsafe_2.12-3.2.1.jar) to constructor java.nio.DirectByteBuffer(long,int)\n",
      "WARNING: Please consider reporting this to the maintainers of org.apache.spark.unsafe.Platform\n",
      "WARNING: Use --illegal-access=warn to enable warnings of further illegal reflective access operations\n",
      "WARNING: All illegal access operations will be denied in a future release\n",
      "Using Spark's default log4j profile: org/apache/spark/log4j-defaults.properties\n",
      "Setting default log level to \"WARN\".\n",
      "To adjust logging level use sc.setLogLevel(newLevel). For SparkR, use setLogLevel(newLevel).\n",
      "22/04/10 23:12:33 WARN NativeCodeLoader: Unable to load native-hadoop library for your platform... using builtin-java classes where applicable\n"
     ]
    }
   ],
   "source": [
    "sc = SparkContext(master='local', appName='transformacionesyacciones')\n",
    "spark2 = SparkSession(sc)"
   ]
  },
  {
   "cell_type": "code",
   "execution_count": 3,
   "id": "bbde06a3",
   "metadata": {},
   "outputs": [],
   "source": [
    "path = '../curso/files/'"
   ]
  },
  {
   "cell_type": "code",
   "execution_count": 4,
   "id": "4cc8d4ab",
   "metadata": {},
   "outputs": [
    {
     "name": "stderr",
     "output_type": "stream",
     "text": [
      "/usr/local/lib/python3.8/site-packages/pyspark/sql/context.py:77: FutureWarning: Deprecated in 3.0.0. Use SparkSession.builder.getOrCreate() instead.\n",
      "  warnings.warn(\n"
     ]
    }
   ],
   "source": [
    "from pyspark.sql import SQLContext\n",
    "sqlContext = SQLContext(spark2)\n"
   ]
  },
  {
   "cell_type": "code",
   "execution_count": 5,
   "id": "78dbad95",
   "metadata": {},
   "outputs": [
    {
     "name": "stdout",
     "output_type": "stream",
     "text": [
      "+--------+------------+-----+---------+---------+\n",
      "|juego_id|nombre_juego|annio|temporada|   ciudad|\n",
      "+--------+------------+-----+---------+---------+\n",
      "|       1| 1896 Verano| 1896|   Verano|   Athina|\n",
      "|       2| 1900 Verano| 1900|   Verano|    Paris|\n",
      "|       3| 1904 Verano| 1904|   Verano|St. Louis|\n",
      "|       4| 1906 Verano| 1906|   Verano|   Athina|\n",
      "|       5| 1908 Verano| 1908|   Verano|   London|\n",
      "+--------+------------+-----+---------+---------+\n",
      "only showing top 5 rows\n",
      "\n"
     ]
    },
    {
     "name": "stderr",
     "output_type": "stream",
     "text": [
      "\r",
      "[Stage 0:>                                                          (0 + 1) / 1]\r",
      "\r",
      "                                                                                \r"
     ]
    }
   ],
   "source": [
    "# Juego DF\n",
    "PATH = '../curso/files/'\n",
    "juegoSchema = StructType([\n",
    "    StructField('juego_id', IntegerType(), False),\n",
    "    StructField('nombre_juego', StringType(), False),\n",
    "    StructField('annio', StringType(), False),\n",
    "    StructField('temporada', StringType(), False),\n",
    "    StructField('ciudad', StringType(), False)\n",
    "])\n",
    "\n",
    "juegoDF = sqlContext.read.schema(juegoSchema)\\\n",
    "    .option(\"header\", \"true\").csv(PATH+'juegos.csv')\n",
    "juegoDF.show(5)"
   ]
  },
  {
   "cell_type": "code",
   "execution_count": 6,
   "id": "a9a0e4a5",
   "metadata": {},
   "outputs": [
    {
     "name": "stderr",
     "output_type": "stream",
     "text": [
      "\r",
      "[Stage 1:>                                                          (0 + 1) / 1]\r"
     ]
    },
    {
     "name": "stdout",
     "output_type": "stream",
     "text": [
      "+-------------+--------------------+------+----+------+----+---------+\n",
      "|deportista_id|              nombre|genero|edad|altura|peso|equipo_id|\n",
      "+-------------+--------------------+------+----+------+----+---------+\n",
      "|            1|           A Dijiang|     1|  24|   180|80.0|      199|\n",
      "|            2|            A Lamusi|     1|  23|   170|60.0|      199|\n",
      "|            3| Gunnar Nielsen Aaby|     1|  24|     0| 0.0|      273|\n",
      "|            4|Edgar Lindenau Aabye|     1|  34|     0| 0.0|      278|\n",
      "|            5|Christine Jacoba ...|     2|  21|   185|82.0|      705|\n",
      "+-------------+--------------------+------+----+------+----+---------+\n",
      "only showing top 5 rows\n",
      "\n"
     ]
    },
    {
     "name": "stderr",
     "output_type": "stream",
     "text": [
      "\r",
      "                                                                                \r"
     ]
    }
   ],
   "source": [
    "# deportista df\n",
    "def eliminar_encabezado(indice, iterador):\n",
    "    return iter(list(iterador)[1:])\n",
    "\n",
    "deportista_olimpicos_rdd = sc.textFile(path+'deportista.csv').map(lambda x: x.split(','))\n",
    "deportista_olimpicos_rdd2 = sc.textFile(path+'deportista2.csv').map(lambda x: x.split(','))\n",
    "deportista_olimpicos_rdd = deportista_olimpicos_rdd.union(deportista_olimpicos_rdd2)\n",
    "\n",
    "deportista_olimpicos_rdd = deportista_olimpicos_rdd.mapPartitionsWithIndex(eliminar_encabezado)\n",
    "\n",
    "deportista_olimpicos_rdd = deportista_olimpicos_rdd.map(lambda l: (\n",
    "    int(l[0]),\n",
    "    l[1],\n",
    "    int(l[2]),\n",
    "    int(l[3]),\n",
    "    int(l[4]),\n",
    "    float(l[5]),\n",
    "    int(l[6]),\n",
    "))\n",
    "\n",
    "schema = StructType([\n",
    "    StructField('deportista_id', IntegerType(), False),\n",
    "    StructField('nombre', StringType(), False),\n",
    "    StructField('genero', IntegerType(), False),\n",
    "    StructField('edad', IntegerType(), False),\n",
    "    StructField('altura', IntegerType(), False),\n",
    "    StructField('peso', FloatType(), False),\n",
    "    StructField('equipo_id', IntegerType(), False)    \n",
    "])\n",
    "\n",
    "deportistaDF = sqlContext.createDataFrame(deportista_olimpicos_rdd, schema)\n",
    "deportistaDF.show(5)"
   ]
  },
  {
   "cell_type": "code",
   "execution_count": 7,
   "id": "de0713df",
   "metadata": {},
   "outputs": [
    {
     "name": "stdout",
     "output_type": "stream",
     "text": [
      "+----------+-------------+\n",
      "|deporte_id|      deporte|\n",
      "+----------+-------------+\n",
      "|         1|   Basketball|\n",
      "|         2|         Judo|\n",
      "|         3|     Football|\n",
      "|         4|   Tug-Of-War|\n",
      "|         5|Speed Skating|\n",
      "+----------+-------------+\n",
      "only showing top 5 rows\n",
      "\n"
     ]
    }
   ],
   "source": [
    "# Deporte DF\n",
    "deporteSchema = StructType([\n",
    "    StructField('deporte_id', IntegerType(), False),\n",
    "    StructField('deporte', StringType(), False),\n",
    "])\n",
    "\n",
    "deporteDF = sqlContext.read.schema(deporteSchema)\\\n",
    "    .option(\"header\", \"true\").csv(PATH+'deporte.csv')\n",
    "deporteDF.show(5)"
   ]
  },
  {
   "cell_type": "code",
   "execution_count": 8,
   "id": "bf635270",
   "metadata": {},
   "outputs": [
    {
     "name": "stdout",
     "output_type": "stream",
     "text": [
      "+---------+--------------------+----------+\n",
      "|evento_id|              evento|deporte_id|\n",
      "+---------+--------------------+----------+\n",
      "|        1|Basketball Men's ...|         1|\n",
      "|        2|Judo Men's Extra-...|         2|\n",
      "|        3|Football Men's Fo...|         3|\n",
      "|        4|Tug-Of-War Men's ...|         4|\n",
      "|        5|Speed Skating Wom...|         5|\n",
      "+---------+--------------------+----------+\n",
      "only showing top 5 rows\n",
      "\n"
     ]
    }
   ],
   "source": [
    "# evento DF\n",
    "eventoSchema = StructType([\n",
    "    StructField('evento_id', IntegerType(), False),\n",
    "    StructField('evento', StringType(), False),\n",
    "    StructField('deporte_id', IntegerType(), False),\n",
    "])\n",
    "\n",
    "eventoDF = sqlContext.read.schema(eventoSchema)\\\n",
    "    .option(\"header\", \"true\").csv(PATH+'evento.csv')\n",
    "eventoDF.show(5)"
   ]
  },
  {
   "cell_type": "code",
   "execution_count": 9,
   "id": "8a91831f",
   "metadata": {},
   "outputs": [
    {
     "name": "stdout",
     "output_type": "stream",
     "text": [
      "+--------+------------+-----+---------+---------+\n",
      "|juego_id|nombre_juego|annio|temporada|   ciudad|\n",
      "+--------+------------+-----+---------+---------+\n",
      "|       1| 1896 Verano| 1896|   Verano|   Athina|\n",
      "|       2| 1900 Verano| 1900|   Verano|    Paris|\n",
      "|       3| 1904 Verano| 1904|   Verano|St. Louis|\n",
      "|       4| 1906 Verano| 1906|   Verano|   Athina|\n",
      "|       5| 1908 Verano| 1908|   Verano|   London|\n",
      "+--------+------------+-----+---------+---------+\n",
      "only showing top 5 rows\n",
      "\n"
     ]
    }
   ],
   "source": [
    "# juego DF\n",
    "juegoSchema = StructType([\n",
    "    StructField('juego_id', IntegerType(), False),\n",
    "    StructField('nombre_juego', StringType(), False),\n",
    "    StructField('annio', IntegerType(), False),\n",
    "    StructField('temporada', StringType(), False),\n",
    "    StructField('ciudad', StringType(), False),\n",
    "])\n",
    "\n",
    "juegoDF = sqlContext.read.schema(juegoSchema) \\\n",
    "    .option(\"header\", \"true\").csv(PATH+'juegos.csv')\n",
    "juegoDF.show(5)"
   ]
  },
  {
   "cell_type": "code",
   "execution_count": 10,
   "id": "1b206e33",
   "metadata": {},
   "outputs": [
    {
     "name": "stdout",
     "output_type": "stream",
     "text": [
      "+---+--------------------+-----+\n",
      "| id|              equipo|sigla|\n",
      "+---+--------------------+-----+\n",
      "|  1|         30. Februar|  AUT|\n",
      "|  2|A North American ...|  MEX|\n",
      "|  3|           Acipactli|  MEX|\n",
      "|  4|             Acturus|  ARG|\n",
      "|  5|         Afghanistan|  AFG|\n",
      "+---+--------------------+-----+\n",
      "only showing top 5 rows\n",
      "\n"
     ]
    }
   ],
   "source": [
    "# juego DF\n",
    "paisesSchema = StructType([\n",
    "    StructField('id', IntegerType(), False),\n",
    "    StructField('equipo', StringType(), False),\n",
    "    StructField('sigla', StringType(), False),\n",
    "])\n",
    "\n",
    "paisesDF = sqlContext.read.schema(paisesSchema) \\\n",
    "    .option(\"header\", \"true\").csv(PATH+'paises.csv')\n",
    "paisesDF.show(5)"
   ]
  },
  {
   "cell_type": "code",
   "execution_count": 11,
   "id": "5038061e",
   "metadata": {},
   "outputs": [
    {
     "name": "stdout",
     "output_type": "stream",
     "text": [
      "Untitled.ipynb\tdeportista2.csv      juegos.csv\t\t    resultados.csv\n",
      "deporte.csv\tdeportistaError.csv  modelo_relacional.jpg\n",
      "deportista.csv\tevento.csv\t     paises.csv\n",
      "-----\n",
      "resultado_id,medalla,deportista_id,juego_id,evento_id\n",
      "1,NA,1,39,1\n",
      "2,NA,2,49,2\n",
      "3,NA,3,7,3\n",
      "4,Gold,4,2,4\n"
     ]
    }
   ],
   "source": [
    "!ls ../curso/files/\n",
    "print('-----')\n",
    "!head -n 5 ../curso/files/resultados.csv"
   ]
  },
  {
   "cell_type": "code",
   "execution_count": 12,
   "id": "3f5b8ea9",
   "metadata": {},
   "outputs": [
    {
     "name": "stdout",
     "output_type": "stream",
     "text": [
      "+------------+-------+-------------+--------+---------+\n",
      "|resultado_id|medalla|deportista_id|juego_id|evento_id|\n",
      "+------------+-------+-------------+--------+---------+\n",
      "|           1|     NA|            1|      39|        1|\n",
      "|           2|     NA|            2|      49|        2|\n",
      "|           3|     NA|            3|       7|        3|\n",
      "|           4|   Gold|            4|       2|        4|\n",
      "|           5|     NA|            5|      36|        5|\n",
      "+------------+-------+-------------+--------+---------+\n",
      "only showing top 5 rows\n",
      "\n"
     ]
    }
   ],
   "source": [
    "# resultados DF\n",
    "resultadosSchema = StructType([\n",
    "    StructField('resultado_id', IntegerType(), False),\n",
    "    StructField('medalla', StringType(), False),\n",
    "    StructField('deportista_id', IntegerType(), False),\n",
    "    StructField('juego_id', IntegerType(), False),\n",
    "    StructField('evento_id', IntegerType(), False),\n",
    "])\n",
    "\n",
    "resultadosDF = sqlContext.read.schema(resultadosSchema) \\\n",
    "    .option(\"header\", \"true\").csv(PATH+'resultados.csv')\n",
    "resultadosDF.show(5)"
   ]
  },
  {
   "cell_type": "markdown",
   "id": "6a25b561",
   "metadata": {},
   "source": [
    "### fin imports"
   ]
  },
  {
   "cell_type": "code",
   "execution_count": 13,
   "id": "f9b9e06a",
   "metadata": {},
   "outputs": [],
   "source": [
    "deportistaDF = deportistaDF.withColumnRenamed('genero', 'sexo').drop('altura')"
   ]
  },
  {
   "cell_type": "code",
   "execution_count": 14,
   "id": "916427ad",
   "metadata": {},
   "outputs": [],
   "source": [
    "from pyspark.sql.functions import *\n",
    "deportistaDF2 = deportistaDF.select(\n",
    "    'deportista_id', 'nombre',\n",
    "    col('edad').alias('edadAlJugar'),\n",
    "    'equipo_id'\n",
    ")"
   ]
  },
  {
   "cell_type": "code",
   "execution_count": 15,
   "id": "3e3f676e",
   "metadata": {},
   "outputs": [
    {
     "name": "stderr",
     "output_type": "stream",
     "text": [
      "[Stage 7:=============================>                             (1 + 1) / 2]\r"
     ]
    },
    {
     "name": "stdout",
     "output_type": "stream",
     "text": [
      "+-------------+--------------------+-----------+---------+\n",
      "|deportista_id|              nombre|edadAlJugar|equipo_id|\n",
      "+-------------+--------------------+-----------+---------+\n",
      "|          133|           Franz Abb|          0|      399|\n",
      "|          167|Ould Lamine Abdallah|          0|      362|\n",
      "|           66|     Mohamed Abakkar|          0|     1003|\n",
      "|          163|     Ismail Abdallah|          0|     1095|\n",
      "|          139|George Ioannis Abbot|          0|     1043|\n",
      "+-------------+--------------------+-----------+---------+\n",
      "only showing top 5 rows\n",
      "\n"
     ]
    },
    {
     "name": "stderr",
     "output_type": "stream",
     "text": [
      "\r",
      "                                                                                \r"
     ]
    }
   ],
   "source": [
    "deportistaDF2.sort('edadAlJugar').show(5)"
   ]
  },
  {
   "cell_type": "code",
   "execution_count": 16,
   "id": "87e797f6",
   "metadata": {},
   "outputs": [
    {
     "name": "stderr",
     "output_type": "stream",
     "text": [
      "[Stage 8:=============================>                             (1 + 1) / 2]\r"
     ]
    },
    {
     "name": "stdout",
     "output_type": "stream",
     "text": [
      "+-------------+--------------------+-----------+---------+\n",
      "|deportista_id|              nombre|edadAlJugar|equipo_id|\n",
      "+-------------+--------------------+-----------+---------+\n",
      "|        71691|  Dimitrios Loundras|         10|      333|\n",
      "|        47618|Sonja Henie Toppi...|         11|      742|\n",
      "|        51268|      Beatrice Hutiu|         11|      861|\n",
      "+-------------+--------------------+-----------+---------+\n",
      "only showing top 3 rows\n",
      "\n"
     ]
    },
    {
     "name": "stderr",
     "output_type": "stream",
     "text": [
      "\r",
      "                                                                                \r"
     ]
    }
   ],
   "source": [
    "deportistaDF2.filter(\n",
    "    (deportistaDF2.edadAlJugar != 0)\n",
    ").sort('edadAlJugar').show(3)"
   ]
  },
  {
   "cell_type": "code",
   "execution_count": 17,
   "id": "c45c8fd8",
   "metadata": {
    "scrolled": true
   },
   "outputs": [
    {
     "name": "stderr",
     "output_type": "stream",
     "text": [
      "\r",
      "[Stage 11:>                                                         (0 + 1) / 1]\r",
      "\r",
      "                                                                                \r"
     ]
    },
    {
     "name": "stdout",
     "output_type": "stream",
     "text": [
      "+--------------------+-------------+-------+-------------+--------------------+\n",
      "|              nombre|edad al jugar|medalla|año del juego|Nombre de disciplina|\n",
      "+--------------------+-------------+-------+-------------+--------------------+\n",
      "|           A Dijiang|           24|     NA|         1992|Basketball Men's ...|\n",
      "|            A Lamusi|           23|     NA|         2012|Judo Men's Extra-...|\n",
      "| Gunnar Nielsen Aaby|           24|     NA|         1920|Football Men's Fo...|\n",
      "|Edgar Lindenau Aabye|           34|   Gold|         1900|Tug-Of-War Men's ...|\n",
      "|Christine Jacoba ...|           21|     NA|         1994|Speed Skating Wom...|\n",
      "|Christine Jacoba ...|           21|     NA|         1994|Speed Skating Wom...|\n",
      "|Christine Jacoba ...|           21|     NA|         1992|Speed Skating Wom...|\n",
      "|Christine Jacoba ...|           21|     NA|         1992|Speed Skating Wom...|\n",
      "|Christine Jacoba ...|           21|     NA|         1988|Speed Skating Wom...|\n",
      "|Christine Jacoba ...|           21|     NA|         1988|Speed Skating Wom...|\n",
      "|     Per Knut Aaland|           31|     NA|         1994|Cross Country Ski...|\n",
      "|     Per Knut Aaland|           31|     NA|         1994|Cross Country Ski...|\n",
      "|     Per Knut Aaland|           31|     NA|         1994|Cross Country Ski...|\n",
      "|     Per Knut Aaland|           31|     NA|         1994|Cross Country Ski...|\n",
      "|     Per Knut Aaland|           31|     NA|         1992|Cross Country Ski...|\n",
      "|     Per Knut Aaland|           31|     NA|         1992|Cross Country Ski...|\n",
      "|     Per Knut Aaland|           31|     NA|         1992|Cross Country Ski...|\n",
      "|     Per Knut Aaland|           31|     NA|         1992|Cross Country Ski...|\n",
      "|        John Aalberg|           31|     NA|         1994|Cross Country Ski...|\n",
      "|        John Aalberg|           31|     NA|         1994|Cross Country Ski...|\n",
      "+--------------------+-------------+-------+-------------+--------------------+\n",
      "only showing top 20 rows\n",
      "\n"
     ]
    }
   ],
   "source": [
    "deportistaDF.join(\n",
    "    resultadosDF,\n",
    "    deportistaDF.deportista_id == resultadosDF.deportista_id,\n",
    "    'left'\n",
    ").join(\n",
    "    juegoDF,\n",
    "    juegoDF.juego_id == resultadosDF.juego_id,\n",
    "    'left'\n",
    ").join(\n",
    "    eventoDF,\n",
    "    eventoDF.evento_id == resultadosDF.evento_id,\n",
    "    'left'\n",
    ").select(\n",
    "    deportistaDF.nombre, col('edad').alias('edad al jugar'),\n",
    "    'medalla', col('annio').alias('año del juego'),\n",
    "    eventoDF.evento.alias('Nombre de disciplina')\n",
    ").show()"
   ]
  },
  {
   "cell_type": "markdown",
   "id": "17e3ba23",
   "metadata": {},
   "source": [
    "todas las medallas ganadoras unidas con el pais y equipo "
   ]
  },
  {
   "cell_type": "code",
   "execution_count": 18,
   "id": "e40cddaf",
   "metadata": {},
   "outputs": [
    {
     "name": "stderr",
     "output_type": "stream",
     "text": [
      "                                                                                \r"
     ]
    },
    {
     "name": "stdout",
     "output_type": "stream",
     "text": [
      "+-----------------+-------------+-------+--------------------+-----+\n",
      "|           nombre|edad al jugar|medalla|              equipo|sigla|\n",
      "+-----------------+-------------+-------+--------------------+-----+\n",
      "|             null|         null| Silver|                null| null|\n",
      "|  Rohullah Nikpai|           21| Bronze|         Afghanistan|  AFG|\n",
      "|  Rohullah Nikpai|           21| Bronze|         Afghanistan|  AFG|\n",
      "|   Jan D. Boersma|           19| Silver|Netherlands Antilles|  AHO|\n",
      "|Majlinda Kelmendi|           21|   Gold|             Albania|  ALB|\n",
      "+-----------------+-------------+-------+--------------------+-----+\n",
      "only showing top 5 rows\n",
      "\n"
     ]
    }
   ],
   "source": [
    "resultadosDF.filter(resultadosDF.medalla != 'NA') \\\n",
    "    .join(deportistaDF, deportistaDF.deportista_id == resultadosDF.deportista_id, 'left') \\\n",
    "    .join(paisesDF, paisesDF.id == deportistaDF.equipo_id, 'left') \\\n",
    "    .select(\n",
    "        deportistaDF.nombre, col('edad').alias('edad al jugar'),\n",
    "        'medalla',\n",
    "        paisesDF.equipo,\n",
    "        paisesDF.sigla\n",
    "    ).sort(col('sigla')).show(5)\n"
   ]
  },
  {
   "cell_type": "code",
   "execution_count": 19,
   "id": "1941d06b",
   "metadata": {},
   "outputs": [
    {
     "name": "stdout",
     "output_type": "stream",
     "text": [
      "root\n",
      " |-- id: integer (nullable = true)\n",
      " |-- equipo: string (nullable = true)\n",
      " |-- sigla: string (nullable = true)\n",
      "\n"
     ]
    }
   ],
   "source": [
    "paisesDF.printSchema()"
   ]
  },
  {
   "cell_type": "code",
   "execution_count": 21,
   "id": "927d38d7",
   "metadata": {},
   "outputs": [
    {
     "ename": "NameError",
     "evalue": "name 'deportistaOlimpicoDF' is not defined",
     "output_type": "error",
     "traceback": [
      "\u001b[0;31m---------------------------------------------------------------------------\u001b[0m",
      "\u001b[0;31mNameError\u001b[0m                                 Traceback (most recent call last)",
      "Input \u001b[0;32mIn [21]\u001b[0m, in \u001b[0;36m<cell line: 1>\u001b[0;34m()\u001b[0m\n\u001b[0;32m----> 1\u001b[0m medallistaXAnio \u001b[38;5;241m=\u001b[39m \u001b[43mdeportistaOlimpicoDF\u001b[49m\u001b[38;5;241m.\u001b[39mjoin(\n\u001b[1;32m      2\u001b[0m         resultadoDF, \n\u001b[1;32m      3\u001b[0m         deportistaOlimpicoDF\u001b[38;5;241m.\u001b[39mdeportista_id \u001b[38;5;241m==\u001b[39m resultadoDF\u001b[38;5;241m.\u001b[39mdeportista_id, \n\u001b[1;32m      4\u001b[0m         \u001b[38;5;124m\"\u001b[39m\u001b[38;5;124mleft\u001b[39m\u001b[38;5;124m\"\u001b[39m\n\u001b[1;32m      5\u001b[0m     )\u001b[38;5;241m.\u001b[39mjoin(\n\u001b[1;32m      6\u001b[0m         juegoDF, \n\u001b[1;32m      7\u001b[0m         juegoDF\u001b[38;5;241m.\u001b[39mjuego_id \u001b[38;5;241m==\u001b[39m resultadoDF\u001b[38;5;241m.\u001b[39mjuego_id, \n\u001b[1;32m      8\u001b[0m         \u001b[38;5;124m\"\u001b[39m\u001b[38;5;124mleft\u001b[39m\u001b[38;5;124m\"\u001b[39m\n\u001b[1;32m      9\u001b[0m     )\u001b[38;5;241m.\u001b[39mjoin(\n\u001b[1;32m     10\u001b[0m         paisesDF, \n\u001b[1;32m     11\u001b[0m         deportistaOlimpicoDF\u001b[38;5;241m.\u001b[39mequipo_id \u001b[38;5;241m==\u001b[39m paisesDF\u001b[38;5;241m.\u001b[39mid, \n\u001b[1;32m     12\u001b[0m         \u001b[38;5;124m\"\u001b[39m\u001b[38;5;124mleft\u001b[39m\u001b[38;5;124m\"\u001b[39m\n\u001b[1;32m     13\u001b[0m     )\u001b[38;5;241m.\u001b[39mjoin(\n\u001b[1;32m     14\u001b[0m         deportesOlimpicosDF, \n\u001b[1;32m     15\u001b[0m         deportesOlimpicosDF\u001b[38;5;241m.\u001b[39mevento_id \u001b[38;5;241m==\u001b[39m resultadoDF\u001b[38;5;241m.\u001b[39mevento_id, \n\u001b[1;32m     16\u001b[0m         \u001b[38;5;124m\"\u001b[39m\u001b[38;5;124mleft\u001b[39m\u001b[38;5;124m\"\u001b[39m\n\u001b[1;32m     17\u001b[0m     )\u001b[38;5;241m.\u001b[39mjoin(\n\u001b[1;32m     18\u001b[0m         deportesDF, \n\u001b[1;32m     19\u001b[0m         deportesOlimpicosDF\u001b[38;5;241m.\u001b[39mdeporte_id \u001b[38;5;241m==\u001b[39m deportesDF\u001b[38;5;241m.\u001b[39mdeporte_id, \n\u001b[1;32m     20\u001b[0m         \u001b[38;5;124m\"\u001b[39m\u001b[38;5;124mleft\u001b[39m\u001b[38;5;124m\"\u001b[39m\n\u001b[1;32m     21\u001b[0m     )\u001b[38;5;241m.\u001b[39mselect(\n\u001b[1;32m     22\u001b[0m         \u001b[38;5;124m\"\u001b[39m\u001b[38;5;124msigla\u001b[39m\u001b[38;5;124m\"\u001b[39m,\n\u001b[1;32m     23\u001b[0m         \u001b[38;5;124m\"\u001b[39m\u001b[38;5;124manio\u001b[39m\u001b[38;5;124m\"\u001b[39m,\n\u001b[1;32m     24\u001b[0m         \u001b[38;5;124m\"\u001b[39m\u001b[38;5;124mmedalla\u001b[39m\u001b[38;5;124m\"\u001b[39m,\n\u001b[1;32m     25\u001b[0m         deportesOlimpicosDF\u001b[38;5;241m.\u001b[39mnombre\u001b[38;5;241m.\u001b[39malias(\u001b[38;5;124m\"\u001b[39m\u001b[38;5;124mNombre subdisciplina\u001b[39m\u001b[38;5;124m\"\u001b[39m),\n\u001b[1;32m     26\u001b[0m         deportesDF\u001b[38;5;241m.\u001b[39mdeporte\u001b[38;5;241m.\u001b[39malias(\u001b[38;5;124m\"\u001b[39m\u001b[38;5;124mNombre disciplina\u001b[39m\u001b[38;5;124m\"\u001b[39m),\n\u001b[1;32m     27\u001b[0m         deportistaOlimpicoDF\u001b[38;5;241m.\u001b[39mnombre    \n\u001b[1;32m     28\u001b[0m     )\n",
      "\u001b[0;31mNameError\u001b[0m: name 'deportistaOlimpicoDF' is not defined"
     ]
    }
   ],
   "source": [
    "medallistaXAnio = deportistaDF.join(\n",
    "        resultadoDF, \n",
    "        deportistaDF.deportista_id == resultadoDF.deportista_id, \n",
    "        \"left\"\n",
    "    ).join(\n",
    "        juegoDF, \n",
    "        juegoDF.juego_id == resultadoDF.juego_id, \n",
    "        \"left\"\n",
    "    ).join(\n",
    "        paisesDF, \n",
    "        deportistaOlimpicoDF.equipo_id == paisesDF.id, \n",
    "        \"left\"\n",
    "    ).join(\n",
    "        deportesOlimpicosDF, \n",
    "        deportesOlimpicosDF.evento_id == resultadoDF.evento_id, \n",
    "        \"left\"\n",
    "    ).join(\n",
    "        deportesDF, \n",
    "        deportesOlimpicosDF.deporte_id == deportesDF.deporte_id, \n",
    "        \"left\"\n",
    "    ).select(\n",
    "        \"sigla\",\n",
    "        \"anio\",\n",
    "        \"medalla\",\n",
    "        deportesOlimpicosDF.nombre.alias(\"Nombre subdisciplina\"),\n",
    "        deportesDF.deporte.alias(\"Nombre disciplina\"),\n",
    "        deportistaOlimpicoDF.nombre    \n",
    "    )\n",
    "\n"
   ]
  },
  {
   "cell_type": "code",
   "execution_count": null,
   "id": "c44c3098",
   "metadata": {},
   "outputs": [],
   "source": [
    "medallistaXAnio.show()"
   ]
  },
  {
   "cell_type": "code",
   "execution_count": null,
   "id": "57f1aa62",
   "metadata": {},
   "outputs": [],
   "source": []
  },
  {
   "cell_type": "code",
   "execution_count": null,
   "id": "dd34c985",
   "metadata": {},
   "outputs": [],
   "source": []
  },
  {
   "cell_type": "code",
   "execution_count": null,
   "id": "7b5e91ae",
   "metadata": {},
   "outputs": [],
   "source": []
  },
  {
   "cell_type": "code",
   "execution_count": null,
   "id": "8ca52919",
   "metadata": {},
   "outputs": [],
   "source": []
  },
  {
   "cell_type": "code",
   "execution_count": 20,
   "id": "2e96c551",
   "metadata": {},
   "outputs": [],
   "source": [
    "# spark2.stop()"
   ]
  }
 ],
 "metadata": {
  "kernelspec": {
   "display_name": "Python 3 (ipykernel)",
   "language": "python",
   "name": "python3"
  },
  "language_info": {
   "codemirror_mode": {
    "name": "ipython",
    "version": 3
   },
   "file_extension": ".py",
   "mimetype": "text/x-python",
   "name": "python",
   "nbconvert_exporter": "python",
   "pygments_lexer": "ipython3",
   "version": "3.8.13"
  }
 },
 "nbformat": 4,
 "nbformat_minor": 5
}
