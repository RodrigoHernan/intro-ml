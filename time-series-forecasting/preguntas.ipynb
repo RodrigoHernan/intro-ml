{
 "cells": [
  {
   "cell_type": "markdown",
   "source": [
    "0.48843 RMSLE \n",
    "\n",
    "$ \\sqrt{ \\frac{1}{n} \\sum_{i=1}^n \\left(\\log (1 + \\hat{y}_i) - \\log (1 + y_i)\\right)^2} $"
   ],
   "metadata": {}
  },
  {
   "cell_type": "markdown",
   "source": [
    " - es un buen valor en la realidad? \n",
    " - esta \"bien\" resuelto? \n",
    " - esta bien entrenar tantos modelos "
   ],
   "metadata": {}
  },
  {
   "cell_type": "markdown",
   "source": [],
   "metadata": {}
  }
 ],
 "metadata": {
  "orig_nbformat": 4,
  "language_info": {
   "name": "python",
   "version": "3.9.7",
   "mimetype": "text/x-python",
   "codemirror_mode": {
    "name": "ipython",
    "version": 3
   },
   "pygments_lexer": "ipython3",
   "nbconvert_exporter": "python",
   "file_extension": ".py"
  },
  "kernelspec": {
   "name": "python3",
   "display_name": "Python 3.9.7 64-bit ('base': conda)"
  },
  "interpreter": {
   "hash": "3458b9c1fb7d62a578772f798c4410208212b577e86b9591fdbc696631dd5ea1"
  }
 },
 "nbformat": 4,
 "nbformat_minor": 2
}